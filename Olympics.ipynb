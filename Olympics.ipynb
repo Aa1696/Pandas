{
 "cells": [
  {
   "cell_type": "code",
   "execution_count": 2,
   "id": "5eb67201",
   "metadata": {},
   "outputs": [],
   "source": [
    "import pandas as pd\n",
    "import numpy as np\n",
    "import seaborn as sns\n",
    "import matplotlib.pyplot as plt\n",
    "%matplotlib inline"
   ]
  },
  {
   "cell_type": "code",
   "execution_count": 3,
   "id": "4ceceb11",
   "metadata": {},
   "outputs": [],
   "source": [
    "atlt=pd.read_csv('athlete_events.csv')\n",
    "rgn=pd.read_csv('noc_regions.csv')"
   ]
  },
  {
   "cell_type": "code",
   "execution_count": 4,
   "id": "9e7c5d43",
   "metadata": {},
   "outputs": [
    {
     "data": {
      "text/html": [
       "<div>\n",
       "<style scoped>\n",
       "    .dataframe tbody tr th:only-of-type {\n",
       "        vertical-align: middle;\n",
       "    }\n",
       "\n",
       "    .dataframe tbody tr th {\n",
       "        vertical-align: top;\n",
       "    }\n",
       "\n",
       "    .dataframe thead th {\n",
       "        text-align: right;\n",
       "    }\n",
       "</style>\n",
       "<table border=\"1\" class=\"dataframe\">\n",
       "  <thead>\n",
       "    <tr style=\"text-align: right;\">\n",
       "      <th></th>\n",
       "      <th>NOC</th>\n",
       "      <th>region</th>\n",
       "      <th>notes</th>\n",
       "    </tr>\n",
       "  </thead>\n",
       "  <tbody>\n",
       "    <tr>\n",
       "      <th>0</th>\n",
       "      <td>AFG</td>\n",
       "      <td>Afghanistan</td>\n",
       "      <td>NaN</td>\n",
       "    </tr>\n",
       "    <tr>\n",
       "      <th>1</th>\n",
       "      <td>AHO</td>\n",
       "      <td>Curacao</td>\n",
       "      <td>Netherlands Antilles</td>\n",
       "    </tr>\n",
       "  </tbody>\n",
       "</table>\n",
       "</div>"
      ],
      "text/plain": [
       "   NOC       region                 notes\n",
       "0  AFG  Afghanistan                   NaN\n",
       "1  AHO      Curacao  Netherlands Antilles"
      ]
     },
     "execution_count": 4,
     "metadata": {},
     "output_type": "execute_result"
    }
   ],
   "source": [
    "rgn.head(2)"
   ]
  },
  {
   "cell_type": "code",
   "execution_count": 5,
   "id": "ed646e8f",
   "metadata": {},
   "outputs": [
    {
     "data": {
      "text/html": [
       "<div>\n",
       "<style scoped>\n",
       "    .dataframe tbody tr th:only-of-type {\n",
       "        vertical-align: middle;\n",
       "    }\n",
       "\n",
       "    .dataframe tbody tr th {\n",
       "        vertical-align: top;\n",
       "    }\n",
       "\n",
       "    .dataframe thead th {\n",
       "        text-align: right;\n",
       "    }\n",
       "</style>\n",
       "<table border=\"1\" class=\"dataframe\">\n",
       "  <thead>\n",
       "    <tr style=\"text-align: right;\">\n",
       "      <th></th>\n",
       "      <th>ID</th>\n",
       "      <th>Name</th>\n",
       "      <th>Sex</th>\n",
       "      <th>Age</th>\n",
       "      <th>Height</th>\n",
       "      <th>Weight</th>\n",
       "      <th>Team</th>\n",
       "      <th>NOC</th>\n",
       "      <th>Games</th>\n",
       "      <th>Year</th>\n",
       "      <th>Season</th>\n",
       "      <th>City</th>\n",
       "      <th>Sport</th>\n",
       "      <th>Event</th>\n",
       "      <th>Medal</th>\n",
       "    </tr>\n",
       "  </thead>\n",
       "  <tbody>\n",
       "    <tr>\n",
       "      <th>0</th>\n",
       "      <td>1</td>\n",
       "      <td>A Dijiang</td>\n",
       "      <td>M</td>\n",
       "      <td>24.0</td>\n",
       "      <td>180.0</td>\n",
       "      <td>80.0</td>\n",
       "      <td>China</td>\n",
       "      <td>CHN</td>\n",
       "      <td>1992 Summer</td>\n",
       "      <td>1992</td>\n",
       "      <td>Summer</td>\n",
       "      <td>Barcelona</td>\n",
       "      <td>Basketball</td>\n",
       "      <td>Basketball Men's Basketball</td>\n",
       "      <td>NaN</td>\n",
       "    </tr>\n",
       "    <tr>\n",
       "      <th>1</th>\n",
       "      <td>2</td>\n",
       "      <td>A Lamusi</td>\n",
       "      <td>M</td>\n",
       "      <td>23.0</td>\n",
       "      <td>170.0</td>\n",
       "      <td>60.0</td>\n",
       "      <td>China</td>\n",
       "      <td>CHN</td>\n",
       "      <td>2012 Summer</td>\n",
       "      <td>2012</td>\n",
       "      <td>Summer</td>\n",
       "      <td>London</td>\n",
       "      <td>Judo</td>\n",
       "      <td>Judo Men's Extra-Lightweight</td>\n",
       "      <td>NaN</td>\n",
       "    </tr>\n",
       "    <tr>\n",
       "      <th>2</th>\n",
       "      <td>3</td>\n",
       "      <td>Gunnar Nielsen Aaby</td>\n",
       "      <td>M</td>\n",
       "      <td>24.0</td>\n",
       "      <td>NaN</td>\n",
       "      <td>NaN</td>\n",
       "      <td>Denmark</td>\n",
       "      <td>DEN</td>\n",
       "      <td>1920 Summer</td>\n",
       "      <td>1920</td>\n",
       "      <td>Summer</td>\n",
       "      <td>Antwerpen</td>\n",
       "      <td>Football</td>\n",
       "      <td>Football Men's Football</td>\n",
       "      <td>NaN</td>\n",
       "    </tr>\n",
       "  </tbody>\n",
       "</table>\n",
       "</div>"
      ],
      "text/plain": [
       "   ID                 Name Sex   Age  Height  Weight     Team  NOC  \\\n",
       "0   1            A Dijiang   M  24.0   180.0    80.0    China  CHN   \n",
       "1   2             A Lamusi   M  23.0   170.0    60.0    China  CHN   \n",
       "2   3  Gunnar Nielsen Aaby   M  24.0     NaN     NaN  Denmark  DEN   \n",
       "\n",
       "         Games  Year  Season       City       Sport  \\\n",
       "0  1992 Summer  1992  Summer  Barcelona  Basketball   \n",
       "1  2012 Summer  2012  Summer     London        Judo   \n",
       "2  1920 Summer  1920  Summer  Antwerpen    Football   \n",
       "\n",
       "                          Event Medal  \n",
       "0   Basketball Men's Basketball   NaN  \n",
       "1  Judo Men's Extra-Lightweight   NaN  \n",
       "2       Football Men's Football   NaN  "
      ]
     },
     "execution_count": 5,
     "metadata": {},
     "output_type": "execute_result"
    }
   ],
   "source": [
    "atlt.head(3)"
   ]
  },
  {
   "cell_type": "code",
   "execution_count": 60,
   "id": "ee8420a5",
   "metadata": {},
   "outputs": [
    {
     "data": {
      "text/plain": [
       "count    208241.000000\n",
       "mean         70.702393\n",
       "std          14.348020\n",
       "min          25.000000\n",
       "25%          60.000000\n",
       "50%          70.000000\n",
       "75%          79.000000\n",
       "max         214.000000\n",
       "Name: Weight, dtype: float64"
      ]
     },
     "execution_count": 60,
     "metadata": {},
     "output_type": "execute_result"
    }
   ],
   "source": [
    "atlt['Weight'].describe()"
   ]
  },
  {
   "cell_type": "code",
   "execution_count": 6,
   "id": "3266fd3a",
   "metadata": {},
   "outputs": [
    {
     "data": {
      "text/plain": [
       "Summer    59443\n",
       "Winter    15079\n",
       "Name: Season, dtype: int64"
      ]
     },
     "execution_count": 6,
     "metadata": {},
     "output_type": "execute_result"
    }
   ],
   "source": [
    "atlt[(atlt['Sex']=='F')]['Season'].value_counts()"
   ]
  },
  {
   "cell_type": "code",
   "execution_count": 7,
   "id": "039419f5",
   "metadata": {},
   "outputs": [
    {
     "data": {
      "text/plain": [
       "<AxesSubplot:>"
      ]
     },
     "execution_count": 7,
     "metadata": {},
     "output_type": "execute_result"
    },
    {
     "data": {
      "image/png": "[encoded data removed]",
      "text/plain": [
       "<Figure size 432x288 with 2 Axes>"
      ]
     },
     "metadata": {
      "needs_background": "light"
     },
     "output_type": "display_data"
    }
   ],
   "source": [
    "sns.heatmap(atlt.isnull())"
   ]
  },
  {
   "cell_type": "markdown",
   "id": "068a2b36",
   "metadata": {},
   "source": [
    "# Merging Data Frame"
   ]
  },
  {
   "cell_type": "code",
   "execution_count": 8,
   "id": "b144df66",
   "metadata": {},
   "outputs": [],
   "source": [
    "new_df=atlt.merge(rgn,how='left',on='NOC')"
   ]
  },
  {
   "cell_type": "code",
   "execution_count": 9,
   "id": "e21c1b7d",
   "metadata": {},
   "outputs": [
    {
     "data": {
      "text/html": [
       "<div>\n",
       "<style scoped>\n",
       "    .dataframe tbody tr th:only-of-type {\n",
       "        vertical-align: middle;\n",
       "    }\n",
       "\n",
       "    .dataframe tbody tr th {\n",
       "        vertical-align: top;\n",
       "    }\n",
       "\n",
       "    .dataframe thead th {\n",
       "        text-align: right;\n",
       "    }\n",
       "</style>\n",
       "<table border=\"1\" class=\"dataframe\">\n",
       "  <thead>\n",
       "    <tr style=\"text-align: right;\">\n",
       "      <th></th>\n",
       "      <th>ID</th>\n",
       "      <th>Name</th>\n",
       "      <th>Sex</th>\n",
       "      <th>Age</th>\n",
       "      <th>Height</th>\n",
       "      <th>Weight</th>\n",
       "      <th>Team</th>\n",
       "      <th>NOC</th>\n",
       "      <th>Games</th>\n",
       "      <th>Year</th>\n",
       "      <th>Season</th>\n",
       "      <th>City</th>\n",
       "      <th>Sport</th>\n",
       "      <th>Event</th>\n",
       "      <th>Medal</th>\n",
       "      <th>region</th>\n",
       "      <th>notes</th>\n",
       "    </tr>\n",
       "  </thead>\n",
       "  <tbody>\n",
       "    <tr>\n",
       "      <th>0</th>\n",
       "      <td>1</td>\n",
       "      <td>A Dijiang</td>\n",
       "      <td>M</td>\n",
       "      <td>24.0</td>\n",
       "      <td>180.0</td>\n",
       "      <td>80.0</td>\n",
       "      <td>China</td>\n",
       "      <td>CHN</td>\n",
       "      <td>1992 Summer</td>\n",
       "      <td>1992</td>\n",
       "      <td>Summer</td>\n",
       "      <td>Barcelona</td>\n",
       "      <td>Basketball</td>\n",
       "      <td>Basketball Men's Basketball</td>\n",
       "      <td>NaN</td>\n",
       "      <td>China</td>\n",
       "      <td>NaN</td>\n",
       "    </tr>\n",
       "    <tr>\n",
       "      <th>1</th>\n",
       "      <td>2</td>\n",
       "      <td>A Lamusi</td>\n",
       "      <td>M</td>\n",
       "      <td>23.0</td>\n",
       "      <td>170.0</td>\n",
       "      <td>60.0</td>\n",
       "      <td>China</td>\n",
       "      <td>CHN</td>\n",
       "      <td>2012 Summer</td>\n",
       "      <td>2012</td>\n",
       "      <td>Summer</td>\n",
       "      <td>London</td>\n",
       "      <td>Judo</td>\n",
       "      <td>Judo Men's Extra-Lightweight</td>\n",
       "      <td>NaN</td>\n",
       "      <td>China</td>\n",
       "      <td>NaN</td>\n",
       "    </tr>\n",
       "    <tr>\n",
       "      <th>2</th>\n",
       "      <td>3</td>\n",
       "      <td>Gunnar Nielsen Aaby</td>\n",
       "      <td>M</td>\n",
       "      <td>24.0</td>\n",
       "      <td>NaN</td>\n",
       "      <td>NaN</td>\n",
       "      <td>Denmark</td>\n",
       "      <td>DEN</td>\n",
       "      <td>1920 Summer</td>\n",
       "      <td>1920</td>\n",
       "      <td>Summer</td>\n",
       "      <td>Antwerpen</td>\n",
       "      <td>Football</td>\n",
       "      <td>Football Men's Football</td>\n",
       "      <td>NaN</td>\n",
       "      <td>Denmark</td>\n",
       "      <td>NaN</td>\n",
       "    </tr>\n",
       "  </tbody>\n",
       "</table>\n",
       "</div>"
      ],
      "text/plain": [
       "   ID                 Name Sex   Age  Height  Weight     Team  NOC  \\\n",
       "0   1            A Dijiang   M  24.0   180.0    80.0    China  CHN   \n",
       "1   2             A Lamusi   M  23.0   170.0    60.0    China  CHN   \n",
       "2   3  Gunnar Nielsen Aaby   M  24.0     NaN     NaN  Denmark  DEN   \n",
       "\n",
       "         Games  Year  Season       City       Sport  \\\n",
       "0  1992 Summer  1992  Summer  Barcelona  Basketball   \n",
       "1  2012 Summer  2012  Summer     London        Judo   \n",
       "2  1920 Summer  1920  Summer  Antwerpen    Football   \n",
       "\n",
       "                          Event Medal   region notes  \n",
       "0   Basketball Men's Basketball   NaN    China   NaN  \n",
       "1  Judo Men's Extra-Lightweight   NaN    China   NaN  \n",
       "2       Football Men's Football   NaN  Denmark   NaN  "
      ]
     },
     "execution_count": 9,
     "metadata": {},
     "output_type": "execute_result"
    }
   ],
   "source": [
    "new_df.head(3)"
   ]
  },
  {
   "cell_type": "code",
   "execution_count": 10,
   "id": "99be6173",
   "metadata": {},
   "outputs": [
    {
     "data": {
      "text/plain": [
       "(271116, 17)"
      ]
     },
     "execution_count": 10,
     "metadata": {},
     "output_type": "execute_result"
    }
   ],
   "source": [
    "new_df.shape"
   ]
  },
  {
   "cell_type": "markdown",
   "id": "730711e4",
   "metadata": {},
   "source": [
    "# Renaming inconsistent column name"
   ]
  },
  {
   "cell_type": "code",
   "execution_count": 11,
   "id": "eb0a42b5",
   "metadata": {},
   "outputs": [],
   "source": [
    "new_df.rename(columns={'region':'Region','notes':'Notes'},inplace=True)"
   ]
  },
  {
   "cell_type": "code",
   "execution_count": 12,
   "id": "708477bf",
   "metadata": {},
   "outputs": [
    {
     "data": {
      "text/html": [
       "<div>\n",
       "<style scoped>\n",
       "    .dataframe tbody tr th:only-of-type {\n",
       "        vertical-align: middle;\n",
       "    }\n",
       "\n",
       "    .dataframe tbody tr th {\n",
       "        vertical-align: top;\n",
       "    }\n",
       "\n",
       "    .dataframe thead th {\n",
       "        text-align: right;\n",
       "    }\n",
       "</style>\n",
       "<table border=\"1\" class=\"dataframe\">\n",
       "  <thead>\n",
       "    <tr style=\"text-align: right;\">\n",
       "      <th></th>\n",
       "      <th>ID</th>\n",
       "      <th>Name</th>\n",
       "      <th>Sex</th>\n",
       "      <th>Age</th>\n",
       "      <th>Height</th>\n",
       "      <th>Weight</th>\n",
       "      <th>Team</th>\n",
       "      <th>NOC</th>\n",
       "      <th>Games</th>\n",
       "      <th>Year</th>\n",
       "      <th>Season</th>\n",
       "      <th>City</th>\n",
       "      <th>Sport</th>\n",
       "      <th>Event</th>\n",
       "      <th>Medal</th>\n",
       "      <th>Region</th>\n",
       "      <th>Notes</th>\n",
       "    </tr>\n",
       "  </thead>\n",
       "  <tbody>\n",
       "    <tr>\n",
       "      <th>0</th>\n",
       "      <td>1</td>\n",
       "      <td>A Dijiang</td>\n",
       "      <td>M</td>\n",
       "      <td>24.0</td>\n",
       "      <td>180.0</td>\n",
       "      <td>80.0</td>\n",
       "      <td>China</td>\n",
       "      <td>CHN</td>\n",
       "      <td>1992 Summer</td>\n",
       "      <td>1992</td>\n",
       "      <td>Summer</td>\n",
       "      <td>Barcelona</td>\n",
       "      <td>Basketball</td>\n",
       "      <td>Basketball Men's Basketball</td>\n",
       "      <td>NaN</td>\n",
       "      <td>China</td>\n",
       "      <td>NaN</td>\n",
       "    </tr>\n",
       "    <tr>\n",
       "      <th>1</th>\n",
       "      <td>2</td>\n",
       "      <td>A Lamusi</td>\n",
       "      <td>M</td>\n",
       "      <td>23.0</td>\n",
       "      <td>170.0</td>\n",
       "      <td>60.0</td>\n",
       "      <td>China</td>\n",
       "      <td>CHN</td>\n",
       "      <td>2012 Summer</td>\n",
       "      <td>2012</td>\n",
       "      <td>Summer</td>\n",
       "      <td>London</td>\n",
       "      <td>Judo</td>\n",
       "      <td>Judo Men's Extra-Lightweight</td>\n",
       "      <td>NaN</td>\n",
       "      <td>China</td>\n",
       "      <td>NaN</td>\n",
       "    </tr>\n",
       "    <tr>\n",
       "      <th>2</th>\n",
       "      <td>3</td>\n",
       "      <td>Gunnar Nielsen Aaby</td>\n",
       "      <td>M</td>\n",
       "      <td>24.0</td>\n",
       "      <td>NaN</td>\n",
       "      <td>NaN</td>\n",
       "      <td>Denmark</td>\n",
       "      <td>DEN</td>\n",
       "      <td>1920 Summer</td>\n",
       "      <td>1920</td>\n",
       "      <td>Summer</td>\n",
       "      <td>Antwerpen</td>\n",
       "      <td>Football</td>\n",
       "      <td>Football Men's Football</td>\n",
       "      <td>NaN</td>\n",
       "      <td>Denmark</td>\n",
       "      <td>NaN</td>\n",
       "    </tr>\n",
       "  </tbody>\n",
       "</table>\n",
       "</div>"
      ],
      "text/plain": [
       "   ID                 Name Sex   Age  Height  Weight     Team  NOC  \\\n",
       "0   1            A Dijiang   M  24.0   180.0    80.0    China  CHN   \n",
       "1   2             A Lamusi   M  23.0   170.0    60.0    China  CHN   \n",
       "2   3  Gunnar Nielsen Aaby   M  24.0     NaN     NaN  Denmark  DEN   \n",
       "\n",
       "         Games  Year  Season       City       Sport  \\\n",
       "0  1992 Summer  1992  Summer  Barcelona  Basketball   \n",
       "1  2012 Summer  2012  Summer     London        Judo   \n",
       "2  1920 Summer  1920  Summer  Antwerpen    Football   \n",
       "\n",
       "                          Event Medal   Region Notes  \n",
       "0   Basketball Men's Basketball   NaN    China   NaN  \n",
       "1  Judo Men's Extra-Lightweight   NaN    China   NaN  \n",
       "2       Football Men's Football   NaN  Denmark   NaN  "
      ]
     },
     "execution_count": 12,
     "metadata": {},
     "output_type": "execute_result"
    }
   ],
   "source": [
    "new_df.head(3)"
   ]
  },
  {
   "cell_type": "code",
   "execution_count": 13,
   "id": "e42219d2",
   "metadata": {},
   "outputs": [
    {
     "name": "stdout",
     "output_type": "stream",
     "text": [
      "<class 'pandas.core.frame.DataFrame'>\n",
      "Int64Index: 271116 entries, 0 to 271115\n",
      "Data columns (total 17 columns):\n",
      " #   Column  Non-Null Count   Dtype  \n",
      "---  ------  --------------   -----  \n",
      " 0   ID      271116 non-null  int64  \n",
      " 1   Name    271116 non-null  object \n",
      " 2   Sex     271116 non-null  object \n",
      " 3   Age     261642 non-null  float64\n",
      " 4   Height  210945 non-null  float64\n",
      " 5   Weight  208241 non-null  float64\n",
      " 6   Team    271116 non-null  object \n",
      " 7   NOC     271116 non-null  object \n",
      " 8   Games   271116 non-null  object \n",
      " 9   Year    271116 non-null  int64  \n",
      " 10  Season  271116 non-null  object \n",
      " 11  City    271116 non-null  object \n",
      " 12  Sport   271116 non-null  object \n",
      " 13  Event   271116 non-null  object \n",
      " 14  Medal   39783 non-null   object \n",
      " 15  Region  270746 non-null  object \n",
      " 16  Notes   5039 non-null    object \n",
      "dtypes: float64(3), int64(2), object(12)\n",
      "memory usage: 37.2+ MB\n"
     ]
    }
   ],
   "source": [
    "new_df.info()"
   ]
  },
  {
   "cell_type": "code",
   "execution_count": 14,
   "id": "ad61e33b",
   "metadata": {},
   "outputs": [
    {
     "data": {
      "text/plain": [
       "ID             0\n",
       "Name           0\n",
       "Sex            0\n",
       "Age         9474\n",
       "Height     60171\n",
       "Weight     62875\n",
       "Team           0\n",
       "NOC            0\n",
       "Games          0\n",
       "Year           0\n",
       "Season         0\n",
       "City           0\n",
       "Sport          0\n",
       "Event          0\n",
       "Medal     231333\n",
       "Region       370\n",
       "Notes     266077\n",
       "dtype: int64"
      ]
     },
     "execution_count": 14,
     "metadata": {},
     "output_type": "execute_result"
    }
   ],
   "source": [
    "new_df.isnull().sum()"
   ]
  },
  {
   "cell_type": "code",
   "execution_count": 15,
   "id": "73c5c746",
   "metadata": {},
   "outputs": [
    {
     "data": {
      "text/plain": [
       "ID             0\n",
       "Name           0\n",
       "Sex            0\n",
       "Age         9474\n",
       "Height     60171\n",
       "Weight     62875\n",
       "Team           0\n",
       "NOC            0\n",
       "Games          0\n",
       "Year           0\n",
       "Season         0\n",
       "City           0\n",
       "Sport          0\n",
       "Event          0\n",
       "Medal     231333\n",
       "Region       370\n",
       "Notes     266077\n",
       "dtype: int64"
      ]
     },
     "execution_count": 15,
     "metadata": {},
     "output_type": "execute_result"
    }
   ],
   "source": [
    "#print the columns containing null values or missing values in the form of list\n",
    "new_df.isnull().sum()"
   ]
  },
  {
   "cell_type": "code",
   "execution_count": 16,
   "id": "2250cbeb",
   "metadata": {},
   "outputs": [
    {
     "data": {
      "text/html": [
       "<div>\n",
       "<style scoped>\n",
       "    .dataframe tbody tr th:only-of-type {\n",
       "        vertical-align: middle;\n",
       "    }\n",
       "\n",
       "    .dataframe tbody tr th {\n",
       "        vertical-align: top;\n",
       "    }\n",
       "\n",
       "    .dataframe thead th {\n",
       "        text-align: right;\n",
       "    }\n",
       "</style>\n",
       "<table border=\"1\" class=\"dataframe\">\n",
       "  <thead>\n",
       "    <tr style=\"text-align: right;\">\n",
       "      <th></th>\n",
       "      <th>ID</th>\n",
       "      <th>Name</th>\n",
       "      <th>Sex</th>\n",
       "      <th>Age</th>\n",
       "      <th>Height</th>\n",
       "      <th>Weight</th>\n",
       "      <th>Team</th>\n",
       "      <th>NOC</th>\n",
       "      <th>Games</th>\n",
       "      <th>Year</th>\n",
       "      <th>Season</th>\n",
       "      <th>City</th>\n",
       "      <th>Sport</th>\n",
       "      <th>Event</th>\n",
       "      <th>Medal</th>\n",
       "      <th>Region</th>\n",
       "      <th>Notes</th>\n",
       "    </tr>\n",
       "  </thead>\n",
       "  <tbody>\n",
       "    <tr>\n",
       "      <th>0</th>\n",
       "      <td>1</td>\n",
       "      <td>A Dijiang</td>\n",
       "      <td>M</td>\n",
       "      <td>24.0</td>\n",
       "      <td>180.0</td>\n",
       "      <td>80.0</td>\n",
       "      <td>China</td>\n",
       "      <td>CHN</td>\n",
       "      <td>1992 Summer</td>\n",
       "      <td>1992</td>\n",
       "      <td>Summer</td>\n",
       "      <td>Barcelona</td>\n",
       "      <td>Basketball</td>\n",
       "      <td>Basketball Men's Basketball</td>\n",
       "      <td>NaN</td>\n",
       "      <td>China</td>\n",
       "      <td>NaN</td>\n",
       "    </tr>\n",
       "    <tr>\n",
       "      <th>1</th>\n",
       "      <td>2</td>\n",
       "      <td>A Lamusi</td>\n",
       "      <td>M</td>\n",
       "      <td>23.0</td>\n",
       "      <td>170.0</td>\n",
       "      <td>60.0</td>\n",
       "      <td>China</td>\n",
       "      <td>CHN</td>\n",
       "      <td>2012 Summer</td>\n",
       "      <td>2012</td>\n",
       "      <td>Summer</td>\n",
       "      <td>London</td>\n",
       "      <td>Judo</td>\n",
       "      <td>Judo Men's Extra-Lightweight</td>\n",
       "      <td>NaN</td>\n",
       "      <td>China</td>\n",
       "      <td>NaN</td>\n",
       "    </tr>\n",
       "    <tr>\n",
       "      <th>2</th>\n",
       "      <td>3</td>\n",
       "      <td>Gunnar Nielsen Aaby</td>\n",
       "      <td>M</td>\n",
       "      <td>24.0</td>\n",
       "      <td>NaN</td>\n",
       "      <td>NaN</td>\n",
       "      <td>Denmark</td>\n",
       "      <td>DEN</td>\n",
       "      <td>1920 Summer</td>\n",
       "      <td>1920</td>\n",
       "      <td>Summer</td>\n",
       "      <td>Antwerpen</td>\n",
       "      <td>Football</td>\n",
       "      <td>Football Men's Football</td>\n",
       "      <td>NaN</td>\n",
       "      <td>Denmark</td>\n",
       "      <td>NaN</td>\n",
       "    </tr>\n",
       "  </tbody>\n",
       "</table>\n",
       "</div>"
      ],
      "text/plain": [
       "   ID                 Name Sex   Age  Height  Weight     Team  NOC  \\\n",
       "0   1            A Dijiang   M  24.0   180.0    80.0    China  CHN   \n",
       "1   2             A Lamusi   M  23.0   170.0    60.0    China  CHN   \n",
       "2   3  Gunnar Nielsen Aaby   M  24.0     NaN     NaN  Denmark  DEN   \n",
       "\n",
       "         Games  Year  Season       City       Sport  \\\n",
       "0  1992 Summer  1992  Summer  Barcelona  Basketball   \n",
       "1  2012 Summer  2012  Summer     London        Judo   \n",
       "2  1920 Summer  1920  Summer  Antwerpen    Football   \n",
       "\n",
       "                          Event Medal   Region Notes  \n",
       "0   Basketball Men's Basketball   NaN    China   NaN  \n",
       "1  Judo Men's Extra-Lightweight   NaN    China   NaN  \n",
       "2       Football Men's Football   NaN  Denmark   NaN  "
      ]
     },
     "execution_count": 16,
     "metadata": {},
     "output_type": "execute_result"
    }
   ],
   "source": [
    "new_df.head(3)"
   ]
  },
  {
   "cell_type": "code",
   "execution_count": 17,
   "id": "56720717",
   "metadata": {},
   "outputs": [
    {
     "data": {
      "text/html": [
       "<div>\n",
       "<style scoped>\n",
       "    .dataframe tbody tr th:only-of-type {\n",
       "        vertical-align: middle;\n",
       "    }\n",
       "\n",
       "    .dataframe tbody tr th {\n",
       "        vertical-align: top;\n",
       "    }\n",
       "\n",
       "    .dataframe thead th {\n",
       "        text-align: right;\n",
       "    }\n",
       "</style>\n",
       "<table border=\"1\" class=\"dataframe\">\n",
       "  <thead>\n",
       "    <tr style=\"text-align: right;\">\n",
       "      <th></th>\n",
       "      <th>ID</th>\n",
       "      <th>Name</th>\n",
       "      <th>Sex</th>\n",
       "      <th>Age</th>\n",
       "      <th>Height</th>\n",
       "      <th>Weight</th>\n",
       "      <th>Team</th>\n",
       "      <th>NOC</th>\n",
       "      <th>Games</th>\n",
       "      <th>Year</th>\n",
       "      <th>Season</th>\n",
       "      <th>City</th>\n",
       "      <th>Sport</th>\n",
       "      <th>Event</th>\n",
       "      <th>Medal</th>\n",
       "      <th>Region</th>\n",
       "      <th>Notes</th>\n",
       "    </tr>\n",
       "  </thead>\n",
       "  <tbody>\n",
       "    <tr>\n",
       "      <th>505</th>\n",
       "      <td>281</td>\n",
       "      <td>S. Abdul Hamid</td>\n",
       "      <td>M</td>\n",
       "      <td>NaN</td>\n",
       "      <td>NaN</td>\n",
       "      <td>NaN</td>\n",
       "      <td>India</td>\n",
       "      <td>IND</td>\n",
       "      <td>1928 Summer</td>\n",
       "      <td>1928</td>\n",
       "      <td>Summer</td>\n",
       "      <td>Amsterdam</td>\n",
       "      <td>Athletics</td>\n",
       "      <td>Athletics Men's 110 metres Hurdles</td>\n",
       "      <td>NaN</td>\n",
       "      <td>India</td>\n",
       "      <td>NaN</td>\n",
       "    </tr>\n",
       "    <tr>\n",
       "      <th>506</th>\n",
       "      <td>281</td>\n",
       "      <td>S. Abdul Hamid</td>\n",
       "      <td>M</td>\n",
       "      <td>NaN</td>\n",
       "      <td>NaN</td>\n",
       "      <td>NaN</td>\n",
       "      <td>India</td>\n",
       "      <td>IND</td>\n",
       "      <td>1928 Summer</td>\n",
       "      <td>1928</td>\n",
       "      <td>Summer</td>\n",
       "      <td>Amsterdam</td>\n",
       "      <td>Athletics</td>\n",
       "      <td>Athletics Men's 400 metres Hurdles</td>\n",
       "      <td>NaN</td>\n",
       "      <td>India</td>\n",
       "      <td>NaN</td>\n",
       "    </tr>\n",
       "    <tr>\n",
       "      <th>895</th>\n",
       "      <td>512</td>\n",
       "      <td>Shiny Kurisingal Abraham-Wilson</td>\n",
       "      <td>F</td>\n",
       "      <td>19.0</td>\n",
       "      <td>167.0</td>\n",
       "      <td>53.0</td>\n",
       "      <td>India</td>\n",
       "      <td>IND</td>\n",
       "      <td>1984 Summer</td>\n",
       "      <td>1984</td>\n",
       "      <td>Summer</td>\n",
       "      <td>Los Angeles</td>\n",
       "      <td>Athletics</td>\n",
       "      <td>Athletics Women's 800 metres</td>\n",
       "      <td>NaN</td>\n",
       "      <td>India</td>\n",
       "      <td>NaN</td>\n",
       "    </tr>\n",
       "  </tbody>\n",
       "</table>\n",
       "</div>"
      ],
      "text/plain": [
       "      ID                             Name Sex   Age  Height  Weight   Team  \\\n",
       "505  281                   S. Abdul Hamid   M   NaN     NaN     NaN  India   \n",
       "506  281                   S. Abdul Hamid   M   NaN     NaN     NaN  India   \n",
       "895  512  Shiny Kurisingal Abraham-Wilson   F  19.0   167.0    53.0  India   \n",
       "\n",
       "     NOC        Games  Year  Season         City      Sport  \\\n",
       "505  IND  1928 Summer  1928  Summer    Amsterdam  Athletics   \n",
       "506  IND  1928 Summer  1928  Summer    Amsterdam  Athletics   \n",
       "895  IND  1984 Summer  1984  Summer  Los Angeles  Athletics   \n",
       "\n",
       "                                  Event Medal Region Notes  \n",
       "505  Athletics Men's 110 metres Hurdles   NaN  India   NaN  \n",
       "506  Athletics Men's 400 metres Hurdles   NaN  India   NaN  \n",
       "895        Athletics Women's 800 metres   NaN  India   NaN  "
      ]
     },
     "execution_count": 17,
     "metadata": {},
     "output_type": "execute_result"
    }
   ],
   "source": [
    "#Detail of India\n",
    "new_df[(new_df['Team']=='India')].head(3)"
   ]
  },
  {
   "cell_type": "code",
   "execution_count": 18,
   "id": "bea1daf2",
   "metadata": {},
   "outputs": [
    {
     "data": {
      "text/html": [
       "<div>\n",
       "<style scoped>\n",
       "    .dataframe tbody tr th:only-of-type {\n",
       "        vertical-align: middle;\n",
       "    }\n",
       "\n",
       "    .dataframe tbody tr th {\n",
       "        vertical-align: top;\n",
       "    }\n",
       "\n",
       "    .dataframe thead th {\n",
       "        text-align: right;\n",
       "    }\n",
       "</style>\n",
       "<table border=\"1\" class=\"dataframe\">\n",
       "  <thead>\n",
       "    <tr style=\"text-align: right;\">\n",
       "      <th></th>\n",
       "      <th>ID</th>\n",
       "      <th>Name</th>\n",
       "      <th>Sex</th>\n",
       "      <th>Age</th>\n",
       "      <th>Height</th>\n",
       "      <th>Weight</th>\n",
       "      <th>Team</th>\n",
       "      <th>NOC</th>\n",
       "      <th>Games</th>\n",
       "      <th>Year</th>\n",
       "      <th>Season</th>\n",
       "      <th>City</th>\n",
       "      <th>Sport</th>\n",
       "      <th>Event</th>\n",
       "      <th>Medal</th>\n",
       "      <th>Region</th>\n",
       "      <th>Notes</th>\n",
       "    </tr>\n",
       "  </thead>\n",
       "  <tbody>\n",
       "    <tr>\n",
       "      <th>505</th>\n",
       "      <td>281</td>\n",
       "      <td>S. Abdul Hamid</td>\n",
       "      <td>M</td>\n",
       "      <td>NaN</td>\n",
       "      <td>NaN</td>\n",
       "      <td>NaN</td>\n",
       "      <td>India</td>\n",
       "      <td>IND</td>\n",
       "      <td>1928 Summer</td>\n",
       "      <td>1928</td>\n",
       "      <td>Summer</td>\n",
       "      <td>Amsterdam</td>\n",
       "      <td>Athletics</td>\n",
       "      <td>Athletics Men's 110 metres Hurdles</td>\n",
       "      <td>NaN</td>\n",
       "      <td>India</td>\n",
       "      <td>NaN</td>\n",
       "    </tr>\n",
       "    <tr>\n",
       "      <th>506</th>\n",
       "      <td>281</td>\n",
       "      <td>S. Abdul Hamid</td>\n",
       "      <td>M</td>\n",
       "      <td>NaN</td>\n",
       "      <td>NaN</td>\n",
       "      <td>NaN</td>\n",
       "      <td>India</td>\n",
       "      <td>IND</td>\n",
       "      <td>1928 Summer</td>\n",
       "      <td>1928</td>\n",
       "      <td>Summer</td>\n",
       "      <td>Amsterdam</td>\n",
       "      <td>Athletics</td>\n",
       "      <td>Athletics Men's 400 metres Hurdles</td>\n",
       "      <td>NaN</td>\n",
       "      <td>India</td>\n",
       "      <td>NaN</td>\n",
       "    </tr>\n",
       "    <tr>\n",
       "      <th>895</th>\n",
       "      <td>512</td>\n",
       "      <td>Shiny Kurisingal Abraham-Wilson</td>\n",
       "      <td>F</td>\n",
       "      <td>19.0</td>\n",
       "      <td>167.0</td>\n",
       "      <td>53.0</td>\n",
       "      <td>India</td>\n",
       "      <td>IND</td>\n",
       "      <td>1984 Summer</td>\n",
       "      <td>1984</td>\n",
       "      <td>Summer</td>\n",
       "      <td>Los Angeles</td>\n",
       "      <td>Athletics</td>\n",
       "      <td>Athletics Women's 800 metres</td>\n",
       "      <td>NaN</td>\n",
       "      <td>India</td>\n",
       "      <td>NaN</td>\n",
       "    </tr>\n",
       "  </tbody>\n",
       "</table>\n",
       "</div>"
      ],
      "text/plain": [
       "      ID                             Name Sex   Age  Height  Weight   Team  \\\n",
       "505  281                   S. Abdul Hamid   M   NaN     NaN     NaN  India   \n",
       "506  281                   S. Abdul Hamid   M   NaN     NaN     NaN  India   \n",
       "895  512  Shiny Kurisingal Abraham-Wilson   F  19.0   167.0    53.0  India   \n",
       "\n",
       "     NOC        Games  Year  Season         City      Sport  \\\n",
       "505  IND  1928 Summer  1928  Summer    Amsterdam  Athletics   \n",
       "506  IND  1928 Summer  1928  Summer    Amsterdam  Athletics   \n",
       "895  IND  1984 Summer  1984  Summer  Los Angeles  Athletics   \n",
       "\n",
       "                                  Event Medal Region Notes  \n",
       "505  Athletics Men's 110 metres Hurdles   NaN  India   NaN  \n",
       "506  Athletics Men's 400 metres Hurdles   NaN  India   NaN  \n",
       "895        Athletics Women's 800 metres   NaN  India   NaN  "
      ]
     },
     "execution_count": 18,
     "metadata": {},
     "output_type": "execute_result"
    }
   ],
   "source": [
    "new_df.query('Team == \"India\"').head(3)"
   ]
  },
  {
   "cell_type": "code",
   "execution_count": 19,
   "id": "dd14d9a1",
   "metadata": {},
   "outputs": [
    {
     "data": {
      "text/plain": [
       "United States    17847\n",
       "France           11988\n",
       "Great Britain    11404\n",
       "Italy            10260\n",
       "Germany           9326\n",
       "Canada            9279\n",
       "Japan             8289\n",
       "Sweden            8052\n",
       "Australia         7513\n",
       "Hungary           6547\n",
       "Name: Team, dtype: int64"
      ]
     },
     "execution_count": 19,
     "metadata": {},
     "output_type": "execute_result"
    }
   ],
   "source": [
    "# Top Countries participation\n",
    "top_10=new_df['Team'].value_counts().sort_values(ascending=False).head(10)\n",
    "top_10"
   ]
  },
  {
   "cell_type": "code",
   "execution_count": 20,
   "id": "43cd8bdd",
   "metadata": {},
   "outputs": [
    {
     "data": {
      "text/plain": [
       "<AxesSubplot:title={'center':'Top 10 performer of Olympics'}, ylabel='Team'>"
      ]
     },
     "execution_count": 20,
     "metadata": {},
     "output_type": "execute_result"
    },
    {
     "data": {
      "image/png": "[encoded data removed]",
      "text/plain": [
       "<Figure size 864x432 with 1 Axes>"
      ]
     },
     "metadata": {
      "needs_background": "light"
     },
     "output_type": "display_data"
    }
   ],
   "source": [
    "#Plot for 10 countries\n",
    "plt.figure(figsize=(12,6))\n",
    "plt.title('Top 10 performer of Olympics')\n",
    "sns.barplot(x=top_10.index,y=top_10,palette='Set2')"
   ]
  },
  {
   "cell_type": "code",
   "execution_count": 21,
   "id": "c5c6c347",
   "metadata": {},
   "outputs": [
    {
     "data": {
      "text/plain": [
       "23.0    21875\n",
       "24.0    21720\n",
       "22.0    20814\n",
       "25.0    19707\n",
       "21.0    19164\n",
       "26.0    17675\n",
       "27.0    16025\n",
       "20.0    15258\n",
       "28.0    14043\n",
       "19.0    11643\n",
       "Name: Age, dtype: int64"
      ]
     },
     "execution_count": 21,
     "metadata": {},
     "output_type": "execute_result"
    }
   ],
   "source": [
    "#Age distribution of Athletes\n",
    "Age=new_df['Age'].value_counts().sort_values(ascending=False).head(10)\n",
    "Age"
   ]
  },
  {
   "cell_type": "code",
   "execution_count": 22,
   "id": "bb5d0161",
   "metadata": {},
   "outputs": [
    {
     "data": {
      "text/plain": [
       "<AxesSubplot:title={'center':'Age Distribution of Athletes'}, ylabel='Age'>"
      ]
     },
     "execution_count": 22,
     "metadata": {},
     "output_type": "execute_result"
    },
    {
     "data": {
      "image/png": "[encoded data removed]",
      "text/plain": [
       "<Figure size 864x432 with 1 Axes>"
      ]
     },
     "metadata": {
      "needs_background": "light"
     },
     "output_type": "display_data"
    }
   ],
   "source": [
    "plt.figure(figsize=(12,6))\n",
    "plt.title(\"Age Distribution of Athletes\")\n",
    "sns.barplot(x=Age.index,y=Age,palette='Set2')"
   ]
  },
  {
   "cell_type": "code",
   "execution_count": 23,
   "id": "911cc508",
   "metadata": {},
   "outputs": [
    {
     "data": {
      "text/plain": [
       "(array([1.4000e+01, 2.2600e+02, 3.0400e+03, 9.2280e+03, 1.9795e+04,\n",
       "        3.4422e+04, 4.2689e+04, 4.1427e+04, 3.3700e+04, 2.5506e+04,\n",
       "        1.7047e+04, 1.1046e+04, 7.1180e+03, 4.4560e+03, 3.0170e+03,\n",
       "        2.1630e+03, 1.6590e+03, 1.2670e+03, 8.3700e+02, 7.6900e+02,\n",
       "        4.7700e+02, 4.4400e+02, 2.6600e+02, 2.0000e+02, 1.7100e+02,\n",
       "        1.5600e+02, 1.1800e+02, 1.1400e+02, 5.6000e+01, 8.5000e+01,\n",
       "        6.1000e+01, 3.2000e+01, 1.6000e+01, 9.0000e+00]),\n",
       " array([10, 12, 14, 16, 18, 20, 22, 24, 26, 28, 30, 32, 34, 36, 38, 40, 42,\n",
       "        44, 46, 48, 50, 52, 54, 56, 58, 60, 62, 64, 66, 68, 70, 72, 74, 76,\n",
       "        78]),\n",
       " <BarContainer object of 34 artists>)"
      ]
     },
     "execution_count": 23,
     "metadata": {},
     "output_type": "execute_result"
    },
    {
     "data": {
      "image/png": "[encoded data removed]",
      "text/plain": [
       "<Figure size 432x288 with 1 Axes>"
      ]
     },
     "metadata": {
      "needs_background": "light"
     },
     "output_type": "display_data"
    }
   ],
   "source": [
    "plt.hist(new_df['Age'],bins=np.arange(10,80,2),color='blue',edgecolor='white')"
   ]
  },
  {
   "cell_type": "code",
   "execution_count": 24,
   "id": "33bda985",
   "metadata": {},
   "outputs": [
    {
     "data": {
      "text/html": [
       "<div>\n",
       "<style scoped>\n",
       "    .dataframe tbody tr th:only-of-type {\n",
       "        vertical-align: middle;\n",
       "    }\n",
       "\n",
       "    .dataframe tbody tr th {\n",
       "        vertical-align: top;\n",
       "    }\n",
       "\n",
       "    .dataframe thead th {\n",
       "        text-align: right;\n",
       "    }\n",
       "</style>\n",
       "<table border=\"1\" class=\"dataframe\">\n",
       "  <thead>\n",
       "    <tr style=\"text-align: right;\">\n",
       "      <th></th>\n",
       "      <th>ID</th>\n",
       "      <th>Name</th>\n",
       "      <th>Sex</th>\n",
       "      <th>Age</th>\n",
       "      <th>Height</th>\n",
       "      <th>Weight</th>\n",
       "      <th>Team</th>\n",
       "      <th>NOC</th>\n",
       "      <th>Games</th>\n",
       "      <th>Year</th>\n",
       "      <th>Season</th>\n",
       "      <th>City</th>\n",
       "      <th>Sport</th>\n",
       "      <th>Event</th>\n",
       "      <th>Medal</th>\n",
       "      <th>Region</th>\n",
       "      <th>Notes</th>\n",
       "    </tr>\n",
       "  </thead>\n",
       "  <tbody>\n",
       "    <tr>\n",
       "      <th>0</th>\n",
       "      <td>1</td>\n",
       "      <td>A Dijiang</td>\n",
       "      <td>M</td>\n",
       "      <td>24.0</td>\n",
       "      <td>180.0</td>\n",
       "      <td>80.0</td>\n",
       "      <td>China</td>\n",
       "      <td>CHN</td>\n",
       "      <td>1992 Summer</td>\n",
       "      <td>1992</td>\n",
       "      <td>Summer</td>\n",
       "      <td>Barcelona</td>\n",
       "      <td>Basketball</td>\n",
       "      <td>Basketball Men's Basketball</td>\n",
       "      <td>NaN</td>\n",
       "      <td>China</td>\n",
       "      <td>NaN</td>\n",
       "    </tr>\n",
       "    <tr>\n",
       "      <th>1</th>\n",
       "      <td>2</td>\n",
       "      <td>A Lamusi</td>\n",
       "      <td>M</td>\n",
       "      <td>23.0</td>\n",
       "      <td>170.0</td>\n",
       "      <td>60.0</td>\n",
       "      <td>China</td>\n",
       "      <td>CHN</td>\n",
       "      <td>2012 Summer</td>\n",
       "      <td>2012</td>\n",
       "      <td>Summer</td>\n",
       "      <td>London</td>\n",
       "      <td>Judo</td>\n",
       "      <td>Judo Men's Extra-Lightweight</td>\n",
       "      <td>NaN</td>\n",
       "      <td>China</td>\n",
       "      <td>NaN</td>\n",
       "    </tr>\n",
       "    <tr>\n",
       "      <th>2</th>\n",
       "      <td>3</td>\n",
       "      <td>Gunnar Nielsen Aaby</td>\n",
       "      <td>M</td>\n",
       "      <td>24.0</td>\n",
       "      <td>NaN</td>\n",
       "      <td>NaN</td>\n",
       "      <td>Denmark</td>\n",
       "      <td>DEN</td>\n",
       "      <td>1920 Summer</td>\n",
       "      <td>1920</td>\n",
       "      <td>Summer</td>\n",
       "      <td>Antwerpen</td>\n",
       "      <td>Football</td>\n",
       "      <td>Football Men's Football</td>\n",
       "      <td>NaN</td>\n",
       "      <td>Denmark</td>\n",
       "      <td>NaN</td>\n",
       "    </tr>\n",
       "  </tbody>\n",
       "</table>\n",
       "</div>"
      ],
      "text/plain": [
       "   ID                 Name Sex   Age  Height  Weight     Team  NOC  \\\n",
       "0   1            A Dijiang   M  24.0   180.0    80.0    China  CHN   \n",
       "1   2             A Lamusi   M  23.0   170.0    60.0    China  CHN   \n",
       "2   3  Gunnar Nielsen Aaby   M  24.0     NaN     NaN  Denmark  DEN   \n",
       "\n",
       "         Games  Year  Season       City       Sport  \\\n",
       "0  1992 Summer  1992  Summer  Barcelona  Basketball   \n",
       "1  2012 Summer  2012  Summer     London        Judo   \n",
       "2  1920 Summer  1920  Summer  Antwerpen    Football   \n",
       "\n",
       "                          Event Medal   Region Notes  \n",
       "0   Basketball Men's Basketball   NaN    China   NaN  \n",
       "1  Judo Men's Extra-Lightweight   NaN    China   NaN  \n",
       "2       Football Men's Football   NaN  Denmark   NaN  "
      ]
     },
     "execution_count": 24,
     "metadata": {},
     "output_type": "execute_result"
    }
   ],
   "source": [
    "new_df.head(3)"
   ]
  },
  {
   "cell_type": "code",
   "execution_count": 25,
   "id": "23c9089f",
   "metadata": {},
   "outputs": [
    {
     "data": {
      "text/plain": [
       "array(['Speed Skating', 'Cross Country Skiing', 'Ice Hockey', 'Biathlon',\n",
       "       'Alpine Skiing', 'Luge', 'Bobsleigh', 'Figure Skating',\n",
       "       'Nordic Combined', 'Freestyle Skiing', 'Ski Jumping', 'Curling',\n",
       "       'Snowboarding', 'Short Track Speed Skating', 'Skeleton',\n",
       "       'Military Ski Patrol', 'Alpinism'], dtype=object)"
      ]
     },
     "execution_count": 25,
     "metadata": {},
     "output_type": "execute_result"
    }
   ],
   "source": [
    "#for winter season show all unique sports\n",
    "new_df[(new_df['Season']=='Winter')]['Sport'].unique()"
   ]
  },
  {
   "cell_type": "code",
   "execution_count": 26,
   "id": "b21059eb",
   "metadata": {},
   "outputs": [
    {
     "data": {
      "text/plain": [
       "Cross Country Skiing         9133\n",
       "Alpine Skiing                8829\n",
       "Speed Skating                5613\n",
       "Ice Hockey                   5456\n",
       "Biathlon                     4893\n",
       "Bobsleigh                    3058\n",
       "Ski Jumping                  2401\n",
       "Figure Skating               2244\n",
       "Short Track Speed Skating    1534\n",
       "Luge                         1479\n",
       "Nordic Combined              1344\n",
       "Freestyle Skiing              937\n",
       "Snowboarding                  936\n",
       "Curling                       463\n",
       "Skeleton                      199\n",
       "Military Ski Patrol            24\n",
       "Alpinism                       21\n",
       "Name: Sport, dtype: int64"
      ]
     },
     "execution_count": 26,
     "metadata": {},
     "output_type": "execute_result"
    }
   ],
   "source": [
    "new_df[(new_df['Season']=='Winter')]['Sport'].value_counts()"
   ]
  },
  {
   "cell_type": "code",
   "execution_count": 27,
   "id": "aa7e3a65",
   "metadata": {},
   "outputs": [
    {
     "data": {
      "text/plain": [
       "array(['Basketball', 'Judo', 'Football', 'Tug-Of-War', 'Athletics',\n",
       "       'Swimming', 'Badminton', 'Sailing', 'Gymnastics',\n",
       "       'Art Competitions', 'Handball', 'Weightlifting', 'Wrestling',\n",
       "       'Water Polo', 'Hockey', 'Rowing', 'Fencing', 'Equestrianism',\n",
       "       'Shooting', 'Boxing', 'Taekwondo', 'Cycling', 'Diving', 'Canoeing',\n",
       "       'Tennis', 'Modern Pentathlon', 'Golf', 'Softball', 'Archery',\n",
       "       'Volleyball', 'Synchronized Swimming', 'Table Tennis', 'Baseball',\n",
       "       'Rhythmic Gymnastics', 'Rugby Sevens', 'Trampolining',\n",
       "       'Beach Volleyball', 'Triathlon', 'Rugby', 'Lacrosse', 'Polo',\n",
       "       'Cricket', 'Ice Hockey', 'Racquets', 'Motorboating', 'Croquet',\n",
       "       'Figure Skating', 'Jeu De Paume', 'Roque', 'Basque Pelota',\n",
       "       'Alpinism', 'Aeronautics'], dtype=object)"
      ]
     },
     "execution_count": 27,
     "metadata": {},
     "output_type": "execute_result"
    }
   ],
   "source": [
    "#summer olympics\n",
    "new_df[(new_df['Season']=='Summer')]['Sport'].unique()"
   ]
  },
  {
   "cell_type": "code",
   "execution_count": 28,
   "id": "21cc3547",
   "metadata": {},
   "outputs": [
    {
     "data": {
      "text/plain": [
       "Athletics                38624\n",
       "Gymnastics               26707\n",
       "Swimming                 23195\n",
       "Shooting                 11448\n",
       "Cycling                  10859\n",
       "Fencing                  10735\n",
       "Rowing                   10595\n",
       "Wrestling                 7154\n",
       "Football                  6745\n",
       "Sailing                   6586\n",
       "Equestrianism             6344\n",
       "Canoeing                  6171\n",
       "Boxing                    6047\n",
       "Hockey                    5417\n",
       "Basketball                4536\n",
       "Weightlifting             3937\n",
       "Water Polo                3846\n",
       "Judo                      3801\n",
       "Handball                  3665\n",
       "Art Competitions          3578\n",
       "Volleyball                3404\n",
       "Tennis                    2862\n",
       "Diving                    2842\n",
       "Archery                   2334\n",
       "Table Tennis              1955\n",
       "Modern Pentathlon         1677\n",
       "Badminton                 1457\n",
       "Synchronized Swimming      909\n",
       "Baseball                   894\n",
       "Rhythmic Gymnastics        658\n",
       "Taekwondo                  606\n",
       "Beach Volleyball           564\n",
       "Triathlon                  529\n",
       "Softball                   478\n",
       "Rugby Sevens               299\n",
       "Golf                       247\n",
       "Tug-Of-War                 170\n",
       "Rugby                      162\n",
       "Trampolining               152\n",
       "Polo                        95\n",
       "Lacrosse                    60\n",
       "Ice Hockey                  60\n",
       "Figure Skating              54\n",
       "Cricket                     24\n",
       "Croquet                     19\n",
       "Motorboating                17\n",
       "Racquets                    12\n",
       "Jeu De Paume                11\n",
       "Roque                        4\n",
       "Alpinism                     4\n",
       "Basque Pelota                2\n",
       "Aeronautics                  1\n",
       "Name: Sport, dtype: int64"
      ]
     },
     "execution_count": 28,
     "metadata": {},
     "output_type": "execute_result"
    }
   ],
   "source": [
    "new_df[(new_df['Season']=='Summer')]['Sport'].value_counts()"
   ]
  },
  {
   "cell_type": "code",
   "execution_count": 29,
   "id": "0f9a41d6",
   "metadata": {},
   "outputs": [
    {
     "data": {
      "text/plain": [
       "M    196594\n",
       "F     74522\n",
       "Name: Sex, dtype: int64"
      ]
     },
     "execution_count": 29,
     "metadata": {},
     "output_type": "execute_result"
    }
   ],
   "source": [
    "# Male and Female Participant\n",
    "gender=new_df['Sex'].value_counts()\n",
    "gender"
   ]
  },
  {
   "cell_type": "code",
   "execution_count": 30,
   "id": "7bf4da2a",
   "metadata": {},
   "outputs": [
    {
     "data": {
      "text/plain": [
       "([<matplotlib.patches.Wedge at 0x7fe02990e490>,\n",
       "  <matplotlib.patches.Wedge at 0x7fe02991a190>],\n",
       " [Text(0.20089640434146094, -1.081499253223354, 'M'),\n",
       "  Text(-0.2008963030841931, 1.081499272032628, 'F')],\n",
       " [Text(0.10957985691352413, -0.5899086835763748, '72.5%'),\n",
       "  Text(-0.10957980168228713, 0.5899086938359788, '27.5%')])"
      ]
     },
     "execution_count": 30,
     "metadata": {},
     "output_type": "execute_result"
    },
    {
     "data": {
      "image/png": "[encoded data removed]",
      "text/plain": [
       "<Figure size 864x432 with 1 Axes>"
      ]
     },
     "metadata": {},
     "output_type": "display_data"
    }
   ],
   "source": [
    "# Making Pie chart for gender distribution \n",
    "plt.figure(figsize=(12,6))\n",
    "plt.title(\"Gender Distribution\")\n",
    "plt.pie(gender,labels=gender.index,autopct='%3.1f%%',startangle=150,shadow=True)"
   ]
  },
  {
   "cell_type": "code",
   "execution_count": 31,
   "id": "7c42e0e6",
   "metadata": {},
   "outputs": [
    {
     "data": {
      "text/plain": [
       "Gold      13372\n",
       "Bronze    13295\n",
       "Silver    13116\n",
       "Name: Medal, dtype: int64"
      ]
     },
     "execution_count": 31,
     "metadata": {},
     "output_type": "execute_result"
    }
   ],
   "source": [
    "#Total Medals\n",
    "Medal=new_df['Medal'].value_counts()\n",
    "Medal"
   ]
  },
  {
   "cell_type": "code",
   "execution_count": 32,
   "id": "a0e87d8c",
   "metadata": {},
   "outputs": [
    {
     "data": {
      "text/plain": [
       "([<matplotlib.patches.Wedge at 0x7fe029e3db50>,\n",
       "  <matplotlib.patches.Wedge at 0x7fe029e4b610>,\n",
       "  <matplotlib.patches.Wedge at 0x7fe029e5a0d0>],\n",
       " [Text(-1.0999577419439412, -0.009641884545369349, 'Gold'),\n",
       "  Text(0.5691445256515265, -0.9413153079180744, 'Bronze'),\n",
       "  Text(0.5390561856134961, 0.9588630917664045, 'Silver')],\n",
       " [Text(-0.5999769501512405, -0.0052592097520196435, '33.61%'),\n",
       "  Text(0.3104424685371962, -0.5134447134098586, '33.42%'),\n",
       "  Text(0.29403064669827056, 0.5230162318725843, '32.97%')])"
      ]
     },
     "execution_count": 32,
     "metadata": {},
     "output_type": "execute_result"
    },
    {
     "data": {
      "image/png": "[encoded data removed]",
      "text/plain": [
       "<Figure size 864x432 with 1 Axes>"
      ]
     },
     "metadata": {},
     "output_type": "display_data"
    }
   ],
   "source": [
    "#pie chart for medal\n",
    "plt.figure(figsize=(12,6))\n",
    "plt.title('Medal Tally')\n",
    "plt.pie(Medal,labels=Medal.index,autopct='%1.2f%%',startangle=120,shadow=True)"
   ]
  },
  {
   "cell_type": "code",
   "execution_count": 33,
   "id": "ae5b8fa1",
   "metadata": {},
   "outputs": [
    {
     "data": {
      "text/html": [
       "<div>\n",
       "<style scoped>\n",
       "    .dataframe tbody tr th:only-of-type {\n",
       "        vertical-align: middle;\n",
       "    }\n",
       "\n",
       "    .dataframe tbody tr th {\n",
       "        vertical-align: top;\n",
       "    }\n",
       "\n",
       "    .dataframe thead th {\n",
       "        text-align: right;\n",
       "    }\n",
       "</style>\n",
       "<table border=\"1\" class=\"dataframe\">\n",
       "  <thead>\n",
       "    <tr style=\"text-align: right;\">\n",
       "      <th></th>\n",
       "      <th>Year</th>\n",
       "      <th>Sex</th>\n",
       "    </tr>\n",
       "  </thead>\n",
       "  <tbody>\n",
       "    <tr>\n",
       "      <th>0</th>\n",
       "      <td>1900</td>\n",
       "      <td>33</td>\n",
       "    </tr>\n",
       "    <tr>\n",
       "      <th>1</th>\n",
       "      <td>1904</td>\n",
       "      <td>16</td>\n",
       "    </tr>\n",
       "    <tr>\n",
       "      <th>2</th>\n",
       "      <td>1906</td>\n",
       "      <td>11</td>\n",
       "    </tr>\n",
       "    <tr>\n",
       "      <th>3</th>\n",
       "      <td>1908</td>\n",
       "      <td>47</td>\n",
       "    </tr>\n",
       "    <tr>\n",
       "      <th>4</th>\n",
       "      <td>1912</td>\n",
       "      <td>87</td>\n",
       "    </tr>\n",
       "  </tbody>\n",
       "</table>\n",
       "</div>"
      ],
      "text/plain": [
       "   Year  Sex\n",
       "0  1900   33\n",
       "1  1904   16\n",
       "2  1906   11\n",
       "3  1908   47\n",
       "4  1912   87"
      ]
     },
     "execution_count": 33,
     "metadata": {},
     "output_type": "execute_result"
    }
   ],
   "source": [
    "Numb=new_df[(new_df['Sex']=='F') & (new_df['Season']=='Summer')][['Year','Sex']]\n",
    "Numb=Numb.groupby('Year').count().reset_index()\n",
    "Numb.head(5)"
   ]
  },
  {
   "cell_type": "code",
   "execution_count": 34,
   "id": "d88e1c49",
   "metadata": {},
   "outputs": [
    {
     "data": {
      "text/html": [
       "<div>\n",
       "<style scoped>\n",
       "    .dataframe tbody tr th:only-of-type {\n",
       "        vertical-align: middle;\n",
       "    }\n",
       "\n",
       "    .dataframe tbody tr th {\n",
       "        vertical-align: top;\n",
       "    }\n",
       "\n",
       "    .dataframe thead th {\n",
       "        text-align: right;\n",
       "    }\n",
       "</style>\n",
       "<table border=\"1\" class=\"dataframe\">\n",
       "  <thead>\n",
       "    <tr style=\"text-align: right;\">\n",
       "      <th></th>\n",
       "      <th>ID</th>\n",
       "      <th>Name</th>\n",
       "      <th>Sex</th>\n",
       "      <th>Age</th>\n",
       "      <th>Height</th>\n",
       "      <th>Weight</th>\n",
       "      <th>Team</th>\n",
       "      <th>NOC</th>\n",
       "      <th>Games</th>\n",
       "      <th>Year</th>\n",
       "      <th>Season</th>\n",
       "      <th>City</th>\n",
       "      <th>Sport</th>\n",
       "      <th>Event</th>\n",
       "      <th>Medal</th>\n",
       "      <th>Region</th>\n",
       "      <th>Notes</th>\n",
       "    </tr>\n",
       "  </thead>\n",
       "  <tbody>\n",
       "    <tr>\n",
       "      <th>26</th>\n",
       "      <td>8</td>\n",
       "      <td>Cornelia \"Cor\" Aalten (-Strannood)</td>\n",
       "      <td>F</td>\n",
       "      <td>18.0</td>\n",
       "      <td>168.0</td>\n",
       "      <td>NaN</td>\n",
       "      <td>Netherlands</td>\n",
       "      <td>NED</td>\n",
       "      <td>1932 Summer</td>\n",
       "      <td>1932</td>\n",
       "      <td>Summer</td>\n",
       "      <td>Los Angeles</td>\n",
       "      <td>Athletics</td>\n",
       "      <td>Athletics Women's 100 metres</td>\n",
       "      <td>NaN</td>\n",
       "      <td>Netherlands</td>\n",
       "      <td>NaN</td>\n",
       "    </tr>\n",
       "    <tr>\n",
       "      <th>27</th>\n",
       "      <td>8</td>\n",
       "      <td>Cornelia \"Cor\" Aalten (-Strannood)</td>\n",
       "      <td>F</td>\n",
       "      <td>18.0</td>\n",
       "      <td>168.0</td>\n",
       "      <td>NaN</td>\n",
       "      <td>Netherlands</td>\n",
       "      <td>NED</td>\n",
       "      <td>1932 Summer</td>\n",
       "      <td>1932</td>\n",
       "      <td>Summer</td>\n",
       "      <td>Los Angeles</td>\n",
       "      <td>Athletics</td>\n",
       "      <td>Athletics Women's 4 x 100 metres Relay</td>\n",
       "      <td>NaN</td>\n",
       "      <td>Netherlands</td>\n",
       "      <td>NaN</td>\n",
       "    </tr>\n",
       "    <tr>\n",
       "      <th>32</th>\n",
       "      <td>13</td>\n",
       "      <td>Minna Maarit Aalto</td>\n",
       "      <td>F</td>\n",
       "      <td>30.0</td>\n",
       "      <td>159.0</td>\n",
       "      <td>55.5</td>\n",
       "      <td>Finland</td>\n",
       "      <td>FIN</td>\n",
       "      <td>1996 Summer</td>\n",
       "      <td>1996</td>\n",
       "      <td>Summer</td>\n",
       "      <td>Atlanta</td>\n",
       "      <td>Sailing</td>\n",
       "      <td>Sailing Women's Windsurfer</td>\n",
       "      <td>NaN</td>\n",
       "      <td>Finland</td>\n",
       "      <td>NaN</td>\n",
       "    </tr>\n",
       "  </tbody>\n",
       "</table>\n",
       "</div>"
      ],
      "text/plain": [
       "    ID                                Name Sex   Age  Height  Weight  \\\n",
       "26   8  Cornelia \"Cor\" Aalten (-Strannood)   F  18.0   168.0     NaN   \n",
       "27   8  Cornelia \"Cor\" Aalten (-Strannood)   F  18.0   168.0     NaN   \n",
       "32  13                  Minna Maarit Aalto   F  30.0   159.0    55.5   \n",
       "\n",
       "           Team  NOC        Games  Year  Season         City      Sport  \\\n",
       "26  Netherlands  NED  1932 Summer  1932  Summer  Los Angeles  Athletics   \n",
       "27  Netherlands  NED  1932 Summer  1932  Summer  Los Angeles  Athletics   \n",
       "32      Finland  FIN  1996 Summer  1996  Summer      Atlanta    Sailing   \n",
       "\n",
       "                                     Event Medal       Region Notes  \n",
       "26            Athletics Women's 100 metres   NaN  Netherlands   NaN  \n",
       "27  Athletics Women's 4 x 100 metres Relay   NaN  Netherlands   NaN  \n",
       "32              Sailing Women's Windsurfer   NaN      Finland   NaN  "
      ]
     },
     "execution_count": 34,
     "metadata": {},
     "output_type": "execute_result"
    }
   ],
   "source": [
    "dfn=new_df[(new_df['Sex']=='F') & (new_df['Season']=='Summer')]\n",
    "dfn.head(3)\n"
   ]
  },
  {
   "cell_type": "code",
   "execution_count": 35,
   "id": "c042f1a8",
   "metadata": {},
   "outputs": [
    {
     "data": {
      "text/plain": [
       "Year  Sex\n",
       "1900  F        33\n",
       "1904  F        16\n",
       "1906  F        11\n",
       "1908  F        47\n",
       "1912  F        87\n",
       "1920  F       134\n",
       "1924  F       244\n",
       "1928  F       404\n",
       "1932  F       347\n",
       "1936  F       468\n",
       "1948  F       628\n",
       "1952  F      1497\n",
       "1956  F       893\n",
       "1960  F      1435\n",
       "1964  F      1348\n",
       "1968  F      1777\n",
       "1972  F      2193\n",
       "1976  F      2172\n",
       "1980  F      1756\n",
       "1984  F      2447\n",
       "1988  F      3543\n",
       "1992  F      4124\n",
       "1996  F      5008\n",
       "2000  F      5431\n",
       "2004  F      5546\n",
       "2008  F      5816\n",
       "2012  F      5815\n",
       "2016  F      6223\n",
       "Name: Sex, dtype: int64"
      ]
     },
     "execution_count": 35,
     "metadata": {},
     "output_type": "execute_result"
    }
   ],
   "source": [
    "A=dfn.groupby('Year')['Sex'].value_counts()\n",
    "A"
   ]
  },
  {
   "cell_type": "code",
   "execution_count": 36,
   "id": "a31af96f",
   "metadata": {},
   "outputs": [
    {
     "data": {
      "text/plain": [
       "Year  Sex\n",
       "1900  F        33\n",
       "1904  F        16\n",
       "1906  F        11\n",
       "1908  F        47\n",
       "1912  F        87\n",
       "1920  F       134\n",
       "1924  F       244\n",
       "1928  F       404\n",
       "1932  F       347\n",
       "1936  F       468\n",
       "1948  F       628\n",
       "1952  F      1497\n",
       "1956  F       893\n",
       "1960  F      1435\n",
       "1964  F      1348\n",
       "1968  F      1777\n",
       "1972  F      2193\n",
       "1976  F      2172\n",
       "1980  F      1756\n",
       "1984  F      2447\n",
       "1988  F      3543\n",
       "1992  F      4124\n",
       "1996  F      5008\n",
       "2000  F      5431\n",
       "2004  F      5546\n",
       "2008  F      5816\n",
       "2012  F      5815\n",
       "2016  F      6223\n",
       "Name: Sex, dtype: int64"
      ]
     },
     "execution_count": 36,
     "metadata": {},
     "output_type": "execute_result"
    }
   ],
   "source": [
    "A"
   ]
  },
  {
   "cell_type": "code",
   "execution_count": 37,
   "id": "24ba623d",
   "metadata": {},
   "outputs": [
    {
     "data": {
      "text/plain": [
       "Text(0.5, 1.0, 'Women Participation')"
      ]
     },
     "execution_count": 37,
     "metadata": {},
     "output_type": "execute_result"
    },
    {
     "data": {
      "image/png": "[encoded data removed]",
      "text/plain": [
       "<Figure size 1440x720 with 1 Axes>"
      ]
     },
     "metadata": {},
     "output_type": "display_data"
    }
   ],
   "source": [
    "sns.set(style='darkgrid')\n",
    "plt.figure(figsize=(20,10))\n",
    "sns.countplot(x='Year',data=dfn,palette='Spectral')\n",
    "plt.title('Women Participation')"
   ]
  },
  {
   "cell_type": "code",
   "execution_count": 38,
   "id": "62b2ccd5",
   "metadata": {},
   "outputs": [
    {
     "data": {
      "text/plain": [
       "Text(0.5, 1.0, 'Women Participation throughout the year')"
      ]
     },
     "execution_count": 38,
     "metadata": {},
     "output_type": "execute_result"
    },
    {
     "data": {
      "image/png": "[encoded data removed]",
      "text/plain": [
       "<Figure size 1440x720 with 1 Axes>"
      ]
     },
     "metadata": {},
     "output_type": "display_data"
    }
   ],
   "source": [
    "wn=dfn.groupby('Year')['Sex'].value_counts()\n",
    "plt.figure(figsize=(20,10))\n",
    "wn.loc[:,'F'].plot()\n",
    "plt.title('Women Participation throughout the year')"
   ]
  },
  {
   "cell_type": "code",
   "execution_count": 39,
   "id": "4b604de8",
   "metadata": {},
   "outputs": [
    {
     "data": {
      "text/plain": [
       "Year\n",
       "1900      33\n",
       "1904      16\n",
       "1906      11\n",
       "1908      47\n",
       "1912      87\n",
       "1920     134\n",
       "1924     244\n",
       "1928     404\n",
       "1932     347\n",
       "1936     468\n",
       "1948     628\n",
       "1952    1497\n",
       "1956     893\n",
       "1960    1435\n",
       "1964    1348\n",
       "1968    1777\n",
       "1972    2193\n",
       "1976    2172\n",
       "1980    1756\n",
       "1984    2447\n",
       "1988    3543\n",
       "1992    4124\n",
       "1996    5008\n",
       "2000    5431\n",
       "2004    5546\n",
       "2008    5816\n",
       "2012    5815\n",
       "2016    6223\n",
       "Name: Sex, dtype: int64"
      ]
     },
     "execution_count": 39,
     "metadata": {},
     "output_type": "execute_result"
    }
   ],
   "source": [
    "wn.loc[:,'F']"
   ]
  },
  {
   "cell_type": "code",
   "execution_count": 40,
   "id": "a9fa25ee",
   "metadata": {},
   "outputs": [
    {
     "data": {
      "text/html": [
       "<div>\n",
       "<style scoped>\n",
       "    .dataframe tbody tr th:only-of-type {\n",
       "        vertical-align: middle;\n",
       "    }\n",
       "\n",
       "    .dataframe tbody tr th {\n",
       "        vertical-align: top;\n",
       "    }\n",
       "\n",
       "    .dataframe thead th {\n",
       "        text-align: right;\n",
       "    }\n",
       "</style>\n",
       "<table border=\"1\" class=\"dataframe\">\n",
       "  <thead>\n",
       "    <tr style=\"text-align: right;\">\n",
       "      <th></th>\n",
       "      <th>ID</th>\n",
       "      <th>Name</th>\n",
       "      <th>Sex</th>\n",
       "      <th>Age</th>\n",
       "      <th>Height</th>\n",
       "      <th>Weight</th>\n",
       "      <th>Team</th>\n",
       "      <th>NOC</th>\n",
       "      <th>Games</th>\n",
       "      <th>Year</th>\n",
       "      <th>Season</th>\n",
       "      <th>City</th>\n",
       "      <th>Sport</th>\n",
       "      <th>Event</th>\n",
       "      <th>Medal</th>\n",
       "      <th>Region</th>\n",
       "      <th>Notes</th>\n",
       "    </tr>\n",
       "  </thead>\n",
       "  <tbody>\n",
       "    <tr>\n",
       "      <th>271114</th>\n",
       "      <td>135571</td>\n",
       "      <td>Tomasz Ireneusz ya</td>\n",
       "      <td>M</td>\n",
       "      <td>30.0</td>\n",
       "      <td>185.0</td>\n",
       "      <td>96.0</td>\n",
       "      <td>Poland</td>\n",
       "      <td>POL</td>\n",
       "      <td>1998 Winter</td>\n",
       "      <td>1998</td>\n",
       "      <td>Winter</td>\n",
       "      <td>Nagano</td>\n",
       "      <td>Bobsleigh</td>\n",
       "      <td>Bobsleigh Men's Four</td>\n",
       "      <td>NaN</td>\n",
       "      <td>Poland</td>\n",
       "      <td>NaN</td>\n",
       "    </tr>\n",
       "    <tr>\n",
       "      <th>271115</th>\n",
       "      <td>135571</td>\n",
       "      <td>Tomasz Ireneusz ya</td>\n",
       "      <td>M</td>\n",
       "      <td>34.0</td>\n",
       "      <td>185.0</td>\n",
       "      <td>96.0</td>\n",
       "      <td>Poland</td>\n",
       "      <td>POL</td>\n",
       "      <td>2002 Winter</td>\n",
       "      <td>2002</td>\n",
       "      <td>Winter</td>\n",
       "      <td>Salt Lake City</td>\n",
       "      <td>Bobsleigh</td>\n",
       "      <td>Bobsleigh Men's Four</td>\n",
       "      <td>NaN</td>\n",
       "      <td>Poland</td>\n",
       "      <td>NaN</td>\n",
       "    </tr>\n",
       "  </tbody>\n",
       "</table>\n",
       "</div>"
      ],
      "text/plain": [
       "            ID                Name Sex   Age  Height  Weight    Team  NOC  \\\n",
       "271114  135571  Tomasz Ireneusz ya   M  30.0   185.0    96.0  Poland  POL   \n",
       "271115  135571  Tomasz Ireneusz ya   M  34.0   185.0    96.0  Poland  POL   \n",
       "\n",
       "              Games  Year  Season            City      Sport  \\\n",
       "271114  1998 Winter  1998  Winter          Nagano  Bobsleigh   \n",
       "271115  2002 Winter  2002  Winter  Salt Lake City  Bobsleigh   \n",
       "\n",
       "                       Event Medal  Region Notes  \n",
       "271114  Bobsleigh Men's Four   NaN  Poland   NaN  \n",
       "271115  Bobsleigh Men's Four   NaN  Poland   NaN  "
      ]
     },
     "execution_count": 40,
     "metadata": {},
     "output_type": "execute_result"
    }
   ],
   "source": [
    "new_df.tail(2)"
   ]
  },
  {
   "cell_type": "code",
   "execution_count": 41,
   "id": "4af78053",
   "metadata": {},
   "outputs": [
    {
     "data": {
      "text/html": [
       "<div>\n",
       "<style scoped>\n",
       "    .dataframe tbody tr th:only-of-type {\n",
       "        vertical-align: middle;\n",
       "    }\n",
       "\n",
       "    .dataframe tbody tr th {\n",
       "        vertical-align: top;\n",
       "    }\n",
       "\n",
       "    .dataframe thead th {\n",
       "        text-align: right;\n",
       "    }\n",
       "</style>\n",
       "<table border=\"1\" class=\"dataframe\">\n",
       "  <thead>\n",
       "    <tr style=\"text-align: right;\">\n",
       "      <th></th>\n",
       "      <th>ID</th>\n",
       "      <th>Name</th>\n",
       "      <th>Sex</th>\n",
       "      <th>Age</th>\n",
       "      <th>Height</th>\n",
       "      <th>Weight</th>\n",
       "      <th>Team</th>\n",
       "      <th>NOC</th>\n",
       "      <th>Games</th>\n",
       "      <th>Year</th>\n",
       "      <th>Season</th>\n",
       "      <th>City</th>\n",
       "      <th>Sport</th>\n",
       "      <th>Event</th>\n",
       "      <th>Medal</th>\n",
       "      <th>Region</th>\n",
       "      <th>Notes</th>\n",
       "    </tr>\n",
       "  </thead>\n",
       "  <tbody>\n",
       "    <tr>\n",
       "      <th>3</th>\n",
       "      <td>4</td>\n",
       "      <td>Edgar Lindenau Aabye</td>\n",
       "      <td>M</td>\n",
       "      <td>34.0</td>\n",
       "      <td>NaN</td>\n",
       "      <td>NaN</td>\n",
       "      <td>Denmark/Sweden</td>\n",
       "      <td>DEN</td>\n",
       "      <td>1900 Summer</td>\n",
       "      <td>1900</td>\n",
       "      <td>Summer</td>\n",
       "      <td>Paris</td>\n",
       "      <td>Tug-Of-War</td>\n",
       "      <td>Tug-Of-War Men's Tug-Of-War</td>\n",
       "      <td>Gold</td>\n",
       "      <td>Denmark</td>\n",
       "      <td>NaN</td>\n",
       "    </tr>\n",
       "    <tr>\n",
       "      <th>42</th>\n",
       "      <td>17</td>\n",
       "      <td>Paavo Johannes Aaltonen</td>\n",
       "      <td>M</td>\n",
       "      <td>28.0</td>\n",
       "      <td>175.0</td>\n",
       "      <td>64.0</td>\n",
       "      <td>Finland</td>\n",
       "      <td>FIN</td>\n",
       "      <td>1948 Summer</td>\n",
       "      <td>1948</td>\n",
       "      <td>Summer</td>\n",
       "      <td>London</td>\n",
       "      <td>Gymnastics</td>\n",
       "      <td>Gymnastics Men's Team All-Around</td>\n",
       "      <td>Gold</td>\n",
       "      <td>Finland</td>\n",
       "      <td>NaN</td>\n",
       "    </tr>\n",
       "    <tr>\n",
       "      <th>44</th>\n",
       "      <td>17</td>\n",
       "      <td>Paavo Johannes Aaltonen</td>\n",
       "      <td>M</td>\n",
       "      <td>28.0</td>\n",
       "      <td>175.0</td>\n",
       "      <td>64.0</td>\n",
       "      <td>Finland</td>\n",
       "      <td>FIN</td>\n",
       "      <td>1948 Summer</td>\n",
       "      <td>1948</td>\n",
       "      <td>Summer</td>\n",
       "      <td>London</td>\n",
       "      <td>Gymnastics</td>\n",
       "      <td>Gymnastics Men's Horse Vault</td>\n",
       "      <td>Gold</td>\n",
       "      <td>Finland</td>\n",
       "      <td>NaN</td>\n",
       "    </tr>\n",
       "    <tr>\n",
       "      <th>48</th>\n",
       "      <td>17</td>\n",
       "      <td>Paavo Johannes Aaltonen</td>\n",
       "      <td>M</td>\n",
       "      <td>28.0</td>\n",
       "      <td>175.0</td>\n",
       "      <td>64.0</td>\n",
       "      <td>Finland</td>\n",
       "      <td>FIN</td>\n",
       "      <td>1948 Summer</td>\n",
       "      <td>1948</td>\n",
       "      <td>Summer</td>\n",
       "      <td>London</td>\n",
       "      <td>Gymnastics</td>\n",
       "      <td>Gymnastics Men's Pommelled Horse</td>\n",
       "      <td>Gold</td>\n",
       "      <td>Finland</td>\n",
       "      <td>NaN</td>\n",
       "    </tr>\n",
       "    <tr>\n",
       "      <th>60</th>\n",
       "      <td>20</td>\n",
       "      <td>Kjetil Andr Aamodt</td>\n",
       "      <td>M</td>\n",
       "      <td>20.0</td>\n",
       "      <td>176.0</td>\n",
       "      <td>85.0</td>\n",
       "      <td>Norway</td>\n",
       "      <td>NOR</td>\n",
       "      <td>1992 Winter</td>\n",
       "      <td>1992</td>\n",
       "      <td>Winter</td>\n",
       "      <td>Albertville</td>\n",
       "      <td>Alpine Skiing</td>\n",
       "      <td>Alpine Skiing Men's Super G</td>\n",
       "      <td>Gold</td>\n",
       "      <td>Norway</td>\n",
       "      <td>NaN</td>\n",
       "    </tr>\n",
       "    <tr>\n",
       "      <th>...</th>\n",
       "      <td>...</td>\n",
       "      <td>...</td>\n",
       "      <td>...</td>\n",
       "      <td>...</td>\n",
       "      <td>...</td>\n",
       "      <td>...</td>\n",
       "      <td>...</td>\n",
       "      <td>...</td>\n",
       "      <td>...</td>\n",
       "      <td>...</td>\n",
       "      <td>...</td>\n",
       "      <td>...</td>\n",
       "      <td>...</td>\n",
       "      <td>...</td>\n",
       "      <td>...</td>\n",
       "      <td>...</td>\n",
       "      <td>...</td>\n",
       "    </tr>\n",
       "    <tr>\n",
       "      <th>270981</th>\n",
       "      <td>135503</td>\n",
       "      <td>Zurab Zviadauri</td>\n",
       "      <td>M</td>\n",
       "      <td>23.0</td>\n",
       "      <td>182.0</td>\n",
       "      <td>90.0</td>\n",
       "      <td>Georgia</td>\n",
       "      <td>GEO</td>\n",
       "      <td>2004 Summer</td>\n",
       "      <td>2004</td>\n",
       "      <td>Summer</td>\n",
       "      <td>Athina</td>\n",
       "      <td>Judo</td>\n",
       "      <td>Judo Men's Middleweight</td>\n",
       "      <td>Gold</td>\n",
       "      <td>Georgia</td>\n",
       "      <td>NaN</td>\n",
       "    </tr>\n",
       "    <tr>\n",
       "      <th>271009</th>\n",
       "      <td>135520</td>\n",
       "      <td>Julia Zwehl</td>\n",
       "      <td>F</td>\n",
       "      <td>28.0</td>\n",
       "      <td>167.0</td>\n",
       "      <td>60.0</td>\n",
       "      <td>Germany</td>\n",
       "      <td>GER</td>\n",
       "      <td>2004 Summer</td>\n",
       "      <td>2004</td>\n",
       "      <td>Summer</td>\n",
       "      <td>Athina</td>\n",
       "      <td>Hockey</td>\n",
       "      <td>Hockey Women's Hockey</td>\n",
       "      <td>Gold</td>\n",
       "      <td>Germany</td>\n",
       "      <td>NaN</td>\n",
       "    </tr>\n",
       "    <tr>\n",
       "      <th>271016</th>\n",
       "      <td>135523</td>\n",
       "      <td>Ronald Ferdinand \"Ron\" Zwerver</td>\n",
       "      <td>M</td>\n",
       "      <td>29.0</td>\n",
       "      <td>200.0</td>\n",
       "      <td>93.0</td>\n",
       "      <td>Netherlands</td>\n",
       "      <td>NED</td>\n",
       "      <td>1996 Summer</td>\n",
       "      <td>1996</td>\n",
       "      <td>Summer</td>\n",
       "      <td>Atlanta</td>\n",
       "      <td>Volleyball</td>\n",
       "      <td>Volleyball Men's Volleyball</td>\n",
       "      <td>Gold</td>\n",
       "      <td>Netherlands</td>\n",
       "      <td>NaN</td>\n",
       "    </tr>\n",
       "    <tr>\n",
       "      <th>271049</th>\n",
       "      <td>135545</td>\n",
       "      <td>Henk Jan Zwolle</td>\n",
       "      <td>M</td>\n",
       "      <td>31.0</td>\n",
       "      <td>197.0</td>\n",
       "      <td>93.0</td>\n",
       "      <td>Netherlands</td>\n",
       "      <td>NED</td>\n",
       "      <td>1996 Summer</td>\n",
       "      <td>1996</td>\n",
       "      <td>Summer</td>\n",
       "      <td>Atlanta</td>\n",
       "      <td>Rowing</td>\n",
       "      <td>Rowing Men's Coxed Eights</td>\n",
       "      <td>Gold</td>\n",
       "      <td>Netherlands</td>\n",
       "      <td>NaN</td>\n",
       "    </tr>\n",
       "    <tr>\n",
       "      <th>271076</th>\n",
       "      <td>135553</td>\n",
       "      <td>Galina Ivanovna Zybina (-Fyodorova)</td>\n",
       "      <td>F</td>\n",
       "      <td>21.0</td>\n",
       "      <td>168.0</td>\n",
       "      <td>80.0</td>\n",
       "      <td>Soviet Union</td>\n",
       "      <td>URS</td>\n",
       "      <td>1952 Summer</td>\n",
       "      <td>1952</td>\n",
       "      <td>Summer</td>\n",
       "      <td>Helsinki</td>\n",
       "      <td>Athletics</td>\n",
       "      <td>Athletics Women's Shot Put</td>\n",
       "      <td>Gold</td>\n",
       "      <td>Russia</td>\n",
       "      <td>NaN</td>\n",
       "    </tr>\n",
       "  </tbody>\n",
       "</table>\n",
       "<p>13372 rows × 17 columns</p>\n",
       "</div>"
      ],
      "text/plain": [
       "            ID                                 Name Sex   Age  Height  Weight  \\\n",
       "3            4                 Edgar Lindenau Aabye   M  34.0     NaN     NaN   \n",
       "42          17              Paavo Johannes Aaltonen   M  28.0   175.0    64.0   \n",
       "44          17              Paavo Johannes Aaltonen   M  28.0   175.0    64.0   \n",
       "48          17              Paavo Johannes Aaltonen   M  28.0   175.0    64.0   \n",
       "60          20                   Kjetil Andr Aamodt   M  20.0   176.0    85.0   \n",
       "...        ...                                  ...  ..   ...     ...     ...   \n",
       "270981  135503                      Zurab Zviadauri   M  23.0   182.0    90.0   \n",
       "271009  135520                          Julia Zwehl   F  28.0   167.0    60.0   \n",
       "271016  135523       Ronald Ferdinand \"Ron\" Zwerver   M  29.0   200.0    93.0   \n",
       "271049  135545                      Henk Jan Zwolle   M  31.0   197.0    93.0   \n",
       "271076  135553  Galina Ivanovna Zybina (-Fyodorova)   F  21.0   168.0    80.0   \n",
       "\n",
       "                  Team  NOC        Games  Year  Season         City  \\\n",
       "3       Denmark/Sweden  DEN  1900 Summer  1900  Summer        Paris   \n",
       "42             Finland  FIN  1948 Summer  1948  Summer       London   \n",
       "44             Finland  FIN  1948 Summer  1948  Summer       London   \n",
       "48             Finland  FIN  1948 Summer  1948  Summer       London   \n",
       "60              Norway  NOR  1992 Winter  1992  Winter  Albertville   \n",
       "...                ...  ...          ...   ...     ...          ...   \n",
       "270981         Georgia  GEO  2004 Summer  2004  Summer       Athina   \n",
       "271009         Germany  GER  2004 Summer  2004  Summer       Athina   \n",
       "271016     Netherlands  NED  1996 Summer  1996  Summer      Atlanta   \n",
       "271049     Netherlands  NED  1996 Summer  1996  Summer      Atlanta   \n",
       "271076    Soviet Union  URS  1952 Summer  1952  Summer     Helsinki   \n",
       "\n",
       "                Sport                             Event Medal       Region  \\\n",
       "3          Tug-Of-War       Tug-Of-War Men's Tug-Of-War  Gold      Denmark   \n",
       "42         Gymnastics  Gymnastics Men's Team All-Around  Gold      Finland   \n",
       "44         Gymnastics      Gymnastics Men's Horse Vault  Gold      Finland   \n",
       "48         Gymnastics  Gymnastics Men's Pommelled Horse  Gold      Finland   \n",
       "60      Alpine Skiing       Alpine Skiing Men's Super G  Gold       Norway   \n",
       "...               ...                               ...   ...          ...   \n",
       "270981           Judo           Judo Men's Middleweight  Gold      Georgia   \n",
       "271009         Hockey             Hockey Women's Hockey  Gold      Germany   \n",
       "271016     Volleyball       Volleyball Men's Volleyball  Gold  Netherlands   \n",
       "271049         Rowing         Rowing Men's Coxed Eights  Gold  Netherlands   \n",
       "271076      Athletics        Athletics Women's Shot Put  Gold       Russia   \n",
       "\n",
       "       Notes  \n",
       "3        NaN  \n",
       "42       NaN  \n",
       "44       NaN  \n",
       "48       NaN  \n",
       "60       NaN  \n",
       "...      ...  \n",
       "270981   NaN  \n",
       "271009   NaN  \n",
       "271016   NaN  \n",
       "271049   NaN  \n",
       "271076   NaN  \n",
       "\n",
       "[13372 rows x 17 columns]"
      ]
     },
     "execution_count": 41,
     "metadata": {},
     "output_type": "execute_result"
    }
   ],
   "source": [
    "# Gold Medal Atheletes \n",
    "Gold_Athlt=new_df[new_df['Medal']=='Gold']\n",
    "Gold_Athlt"
   ]
  },
  {
   "cell_type": "code",
   "execution_count": 42,
   "id": "3dec9af5",
   "metadata": {},
   "outputs": [
    {
     "data": {
      "text/html": [
       "<div>\n",
       "<style scoped>\n",
       "    .dataframe tbody tr th:only-of-type {\n",
       "        vertical-align: middle;\n",
       "    }\n",
       "\n",
       "    .dataframe tbody tr th {\n",
       "        vertical-align: top;\n",
       "    }\n",
       "\n",
       "    .dataframe thead th {\n",
       "        text-align: right;\n",
       "    }\n",
       "</style>\n",
       "<table border=\"1\" class=\"dataframe\">\n",
       "  <thead>\n",
       "    <tr style=\"text-align: right;\">\n",
       "      <th></th>\n",
       "      <th>ID</th>\n",
       "      <th>Name</th>\n",
       "      <th>Sex</th>\n",
       "      <th>Age</th>\n",
       "      <th>Height</th>\n",
       "      <th>Weight</th>\n",
       "      <th>Team</th>\n",
       "      <th>NOC</th>\n",
       "      <th>Games</th>\n",
       "      <th>Year</th>\n",
       "      <th>Season</th>\n",
       "      <th>City</th>\n",
       "      <th>Sport</th>\n",
       "      <th>Event</th>\n",
       "      <th>Medal</th>\n",
       "      <th>Region</th>\n",
       "      <th>Notes</th>\n",
       "    </tr>\n",
       "  </thead>\n",
       "  <tbody>\n",
       "    <tr>\n",
       "      <th>3</th>\n",
       "      <td>4</td>\n",
       "      <td>Edgar Lindenau Aabye</td>\n",
       "      <td>M</td>\n",
       "      <td>34.0</td>\n",
       "      <td>NaN</td>\n",
       "      <td>NaN</td>\n",
       "      <td>Denmark/Sweden</td>\n",
       "      <td>DEN</td>\n",
       "      <td>1900 Summer</td>\n",
       "      <td>1900</td>\n",
       "      <td>Summer</td>\n",
       "      <td>Paris</td>\n",
       "      <td>Tug-Of-War</td>\n",
       "      <td>Tug-Of-War Men's Tug-Of-War</td>\n",
       "      <td>Gold</td>\n",
       "      <td>Denmark</td>\n",
       "      <td>NaN</td>\n",
       "    </tr>\n",
       "    <tr>\n",
       "      <th>42</th>\n",
       "      <td>17</td>\n",
       "      <td>Paavo Johannes Aaltonen</td>\n",
       "      <td>M</td>\n",
       "      <td>28.0</td>\n",
       "      <td>175.0</td>\n",
       "      <td>64.0</td>\n",
       "      <td>Finland</td>\n",
       "      <td>FIN</td>\n",
       "      <td>1948 Summer</td>\n",
       "      <td>1948</td>\n",
       "      <td>Summer</td>\n",
       "      <td>London</td>\n",
       "      <td>Gymnastics</td>\n",
       "      <td>Gymnastics Men's Team All-Around</td>\n",
       "      <td>Gold</td>\n",
       "      <td>Finland</td>\n",
       "      <td>NaN</td>\n",
       "    </tr>\n",
       "    <tr>\n",
       "      <th>44</th>\n",
       "      <td>17</td>\n",
       "      <td>Paavo Johannes Aaltonen</td>\n",
       "      <td>M</td>\n",
       "      <td>28.0</td>\n",
       "      <td>175.0</td>\n",
       "      <td>64.0</td>\n",
       "      <td>Finland</td>\n",
       "      <td>FIN</td>\n",
       "      <td>1948 Summer</td>\n",
       "      <td>1948</td>\n",
       "      <td>Summer</td>\n",
       "      <td>London</td>\n",
       "      <td>Gymnastics</td>\n",
       "      <td>Gymnastics Men's Horse Vault</td>\n",
       "      <td>Gold</td>\n",
       "      <td>Finland</td>\n",
       "      <td>NaN</td>\n",
       "    </tr>\n",
       "    <tr>\n",
       "      <th>48</th>\n",
       "      <td>17</td>\n",
       "      <td>Paavo Johannes Aaltonen</td>\n",
       "      <td>M</td>\n",
       "      <td>28.0</td>\n",
       "      <td>175.0</td>\n",
       "      <td>64.0</td>\n",
       "      <td>Finland</td>\n",
       "      <td>FIN</td>\n",
       "      <td>1948 Summer</td>\n",
       "      <td>1948</td>\n",
       "      <td>Summer</td>\n",
       "      <td>London</td>\n",
       "      <td>Gymnastics</td>\n",
       "      <td>Gymnastics Men's Pommelled Horse</td>\n",
       "      <td>Gold</td>\n",
       "      <td>Finland</td>\n",
       "      <td>NaN</td>\n",
       "    </tr>\n",
       "    <tr>\n",
       "      <th>60</th>\n",
       "      <td>20</td>\n",
       "      <td>Kjetil Andr Aamodt</td>\n",
       "      <td>M</td>\n",
       "      <td>20.0</td>\n",
       "      <td>176.0</td>\n",
       "      <td>85.0</td>\n",
       "      <td>Norway</td>\n",
       "      <td>NOR</td>\n",
       "      <td>1992 Winter</td>\n",
       "      <td>1992</td>\n",
       "      <td>Winter</td>\n",
       "      <td>Albertville</td>\n",
       "      <td>Alpine Skiing</td>\n",
       "      <td>Alpine Skiing Men's Super G</td>\n",
       "      <td>Gold</td>\n",
       "      <td>Norway</td>\n",
       "      <td>NaN</td>\n",
       "    </tr>\n",
       "    <tr>\n",
       "      <th>...</th>\n",
       "      <td>...</td>\n",
       "      <td>...</td>\n",
       "      <td>...</td>\n",
       "      <td>...</td>\n",
       "      <td>...</td>\n",
       "      <td>...</td>\n",
       "      <td>...</td>\n",
       "      <td>...</td>\n",
       "      <td>...</td>\n",
       "      <td>...</td>\n",
       "      <td>...</td>\n",
       "      <td>...</td>\n",
       "      <td>...</td>\n",
       "      <td>...</td>\n",
       "      <td>...</td>\n",
       "      <td>...</td>\n",
       "      <td>...</td>\n",
       "    </tr>\n",
       "    <tr>\n",
       "      <th>270981</th>\n",
       "      <td>135503</td>\n",
       "      <td>Zurab Zviadauri</td>\n",
       "      <td>M</td>\n",
       "      <td>23.0</td>\n",
       "      <td>182.0</td>\n",
       "      <td>90.0</td>\n",
       "      <td>Georgia</td>\n",
       "      <td>GEO</td>\n",
       "      <td>2004 Summer</td>\n",
       "      <td>2004</td>\n",
       "      <td>Summer</td>\n",
       "      <td>Athina</td>\n",
       "      <td>Judo</td>\n",
       "      <td>Judo Men's Middleweight</td>\n",
       "      <td>Gold</td>\n",
       "      <td>Georgia</td>\n",
       "      <td>NaN</td>\n",
       "    </tr>\n",
       "    <tr>\n",
       "      <th>271009</th>\n",
       "      <td>135520</td>\n",
       "      <td>Julia Zwehl</td>\n",
       "      <td>F</td>\n",
       "      <td>28.0</td>\n",
       "      <td>167.0</td>\n",
       "      <td>60.0</td>\n",
       "      <td>Germany</td>\n",
       "      <td>GER</td>\n",
       "      <td>2004 Summer</td>\n",
       "      <td>2004</td>\n",
       "      <td>Summer</td>\n",
       "      <td>Athina</td>\n",
       "      <td>Hockey</td>\n",
       "      <td>Hockey Women's Hockey</td>\n",
       "      <td>Gold</td>\n",
       "      <td>Germany</td>\n",
       "      <td>NaN</td>\n",
       "    </tr>\n",
       "    <tr>\n",
       "      <th>271016</th>\n",
       "      <td>135523</td>\n",
       "      <td>Ronald Ferdinand \"Ron\" Zwerver</td>\n",
       "      <td>M</td>\n",
       "      <td>29.0</td>\n",
       "      <td>200.0</td>\n",
       "      <td>93.0</td>\n",
       "      <td>Netherlands</td>\n",
       "      <td>NED</td>\n",
       "      <td>1996 Summer</td>\n",
       "      <td>1996</td>\n",
       "      <td>Summer</td>\n",
       "      <td>Atlanta</td>\n",
       "      <td>Volleyball</td>\n",
       "      <td>Volleyball Men's Volleyball</td>\n",
       "      <td>Gold</td>\n",
       "      <td>Netherlands</td>\n",
       "      <td>NaN</td>\n",
       "    </tr>\n",
       "    <tr>\n",
       "      <th>271049</th>\n",
       "      <td>135545</td>\n",
       "      <td>Henk Jan Zwolle</td>\n",
       "      <td>M</td>\n",
       "      <td>31.0</td>\n",
       "      <td>197.0</td>\n",
       "      <td>93.0</td>\n",
       "      <td>Netherlands</td>\n",
       "      <td>NED</td>\n",
       "      <td>1996 Summer</td>\n",
       "      <td>1996</td>\n",
       "      <td>Summer</td>\n",
       "      <td>Atlanta</td>\n",
       "      <td>Rowing</td>\n",
       "      <td>Rowing Men's Coxed Eights</td>\n",
       "      <td>Gold</td>\n",
       "      <td>Netherlands</td>\n",
       "      <td>NaN</td>\n",
       "    </tr>\n",
       "    <tr>\n",
       "      <th>271076</th>\n",
       "      <td>135553</td>\n",
       "      <td>Galina Ivanovna Zybina (-Fyodorova)</td>\n",
       "      <td>F</td>\n",
       "      <td>21.0</td>\n",
       "      <td>168.0</td>\n",
       "      <td>80.0</td>\n",
       "      <td>Soviet Union</td>\n",
       "      <td>URS</td>\n",
       "      <td>1952 Summer</td>\n",
       "      <td>1952</td>\n",
       "      <td>Summer</td>\n",
       "      <td>Helsinki</td>\n",
       "      <td>Athletics</td>\n",
       "      <td>Athletics Women's Shot Put</td>\n",
       "      <td>Gold</td>\n",
       "      <td>Russia</td>\n",
       "      <td>NaN</td>\n",
       "    </tr>\n",
       "  </tbody>\n",
       "</table>\n",
       "<p>13224 rows × 17 columns</p>\n",
       "</div>"
      ],
      "text/plain": [
       "            ID                                 Name Sex   Age  Height  Weight  \\\n",
       "3            4                 Edgar Lindenau Aabye   M  34.0     NaN     NaN   \n",
       "42          17              Paavo Johannes Aaltonen   M  28.0   175.0    64.0   \n",
       "44          17              Paavo Johannes Aaltonen   M  28.0   175.0    64.0   \n",
       "48          17              Paavo Johannes Aaltonen   M  28.0   175.0    64.0   \n",
       "60          20                   Kjetil Andr Aamodt   M  20.0   176.0    85.0   \n",
       "...        ...                                  ...  ..   ...     ...     ...   \n",
       "270981  135503                      Zurab Zviadauri   M  23.0   182.0    90.0   \n",
       "271009  135520                          Julia Zwehl   F  28.0   167.0    60.0   \n",
       "271016  135523       Ronald Ferdinand \"Ron\" Zwerver   M  29.0   200.0    93.0   \n",
       "271049  135545                      Henk Jan Zwolle   M  31.0   197.0    93.0   \n",
       "271076  135553  Galina Ivanovna Zybina (-Fyodorova)   F  21.0   168.0    80.0   \n",
       "\n",
       "                  Team  NOC        Games  Year  Season         City  \\\n",
       "3       Denmark/Sweden  DEN  1900 Summer  1900  Summer        Paris   \n",
       "42             Finland  FIN  1948 Summer  1948  Summer       London   \n",
       "44             Finland  FIN  1948 Summer  1948  Summer       London   \n",
       "48             Finland  FIN  1948 Summer  1948  Summer       London   \n",
       "60              Norway  NOR  1992 Winter  1992  Winter  Albertville   \n",
       "...                ...  ...          ...   ...     ...          ...   \n",
       "270981         Georgia  GEO  2004 Summer  2004  Summer       Athina   \n",
       "271009         Germany  GER  2004 Summer  2004  Summer       Athina   \n",
       "271016     Netherlands  NED  1996 Summer  1996  Summer      Atlanta   \n",
       "271049     Netherlands  NED  1996 Summer  1996  Summer      Atlanta   \n",
       "271076    Soviet Union  URS  1952 Summer  1952  Summer     Helsinki   \n",
       "\n",
       "                Sport                             Event Medal       Region  \\\n",
       "3          Tug-Of-War       Tug-Of-War Men's Tug-Of-War  Gold      Denmark   \n",
       "42         Gymnastics  Gymnastics Men's Team All-Around  Gold      Finland   \n",
       "44         Gymnastics      Gymnastics Men's Horse Vault  Gold      Finland   \n",
       "48         Gymnastics  Gymnastics Men's Pommelled Horse  Gold      Finland   \n",
       "60      Alpine Skiing       Alpine Skiing Men's Super G  Gold       Norway   \n",
       "...               ...                               ...   ...          ...   \n",
       "270981           Judo           Judo Men's Middleweight  Gold      Georgia   \n",
       "271009         Hockey             Hockey Women's Hockey  Gold      Germany   \n",
       "271016     Volleyball       Volleyball Men's Volleyball  Gold  Netherlands   \n",
       "271049         Rowing         Rowing Men's Coxed Eights  Gold  Netherlands   \n",
       "271076      Athletics        Athletics Women's Shot Put  Gold       Russia   \n",
       "\n",
       "       Notes  \n",
       "3        NaN  \n",
       "42       NaN  \n",
       "44       NaN  \n",
       "48       NaN  \n",
       "60       NaN  \n",
       "...      ...  \n",
       "270981   NaN  \n",
       "271009   NaN  \n",
       "271016   NaN  \n",
       "271049   NaN  \n",
       "271076   NaN  \n",
       "\n",
       "[13224 rows x 17 columns]"
      ]
     },
     "execution_count": 42,
     "metadata": {},
     "output_type": "execute_result"
    }
   ],
   "source": [
    "# Take only values that are different form NaN values\n",
    "Gold_Athlt=Gold_Athlt[np.isfinite(Gold_Athlt['Age'])]\n",
    "Gold_Athlt"
   ]
  },
  {
   "cell_type": "code",
   "execution_count": 43,
   "id": "3fc2a460",
   "metadata": {},
   "outputs": [
    {
     "data": {
      "text/plain": [
       "Archery             3\n",
       "Art Competitions    1\n",
       "Roque               1\n",
       "Shooting            1\n",
       "Name: Sport, dtype: int64"
      ]
     },
     "execution_count": 43,
     "metadata": {},
     "output_type": "execute_result"
    }
   ],
   "source": [
    "Gold_Athlt[Gold_Athlt['Age'] > 60.0]['Sport'].value_counts()"
   ]
  },
  {
   "cell_type": "code",
   "execution_count": 44,
   "id": "ff6726b2",
   "metadata": {},
   "outputs": [
    {
     "data": {
      "text/plain": [
       "ID      Year  Sport             Sex\n",
       "52626   1928  Art Competitions  M      1\n",
       "53238   1904  Roque             M      1\n",
       "95906   1904  Archery           F      1\n",
       "113773  1904  Archery           M      1\n",
       "117046  1912  Shooting          M      1\n",
       "130662  1904  Archery           M      1\n",
       "dtype: int64"
      ]
     },
     "execution_count": 44,
     "metadata": {},
     "output_type": "execute_result"
    }
   ],
   "source": [
    "new_df[(new_df['Age']>60) & (new_df['Medal']=='Gold')][['ID','Year','Sport','Sex']].value_counts()\n"
   ]
  },
  {
   "cell_type": "code",
   "execution_count": 45,
   "id": "2baf7e70",
   "metadata": {},
   "outputs": [
    {
     "data": {
      "text/plain": [
       "104003    Art Competitions\n",
       "105199               Roque\n",
       "190952             Archery\n",
       "226374             Archery\n",
       "233390            Shooting\n",
       "261102             Archery\n",
       "Name: Sport, dtype: object"
      ]
     },
     "execution_count": 45,
     "metadata": {},
     "output_type": "execute_result"
    }
   ],
   "source": [
    "sport_event=Gold_Athlt[Gold_Athlt['Age'] > 60.0]['Sport']\n",
    "sport_event"
   ]
  },
  {
   "cell_type": "code",
   "execution_count": 46,
   "id": "c899f950",
   "metadata": {},
   "outputs": [
    {
     "name": "stderr",
     "output_type": "stream",
     "text": [
      "/opt/anaconda3/lib/python3.7/site-packages/seaborn/_decorators.py:43: FutureWarning: Pass the following variable as a keyword arg: x. From version 0.12, the only valid positional argument will be `data`, and passing other arguments without an explicit keyword will result in an error or misinterpretation.\n",
      "  FutureWarning\n"
     ]
    },
    {
     "data": {
      "text/plain": [
       "Text(0.5, 1.0, 'Gold for Atheletes above 60 years')"
      ]
     },
     "execution_count": 46,
     "metadata": {},
     "output_type": "execute_result"
    },
    {
     "data": {
      "image/png": "[encoded data removed]",
      "text/plain": [
       "<Figure size 864x432 with 1 Axes>"
      ]
     },
     "metadata": {},
     "output_type": "display_data"
    }
   ],
   "source": [
    "# Plot Sporting event \n",
    "plt.figure(figsize=(12,6))\n",
    "plt.tight_layout()\n",
    "sns.countplot(sport_event)\n",
    "plt.title(\"Gold for Atheletes above 60 years\")"
   ]
  },
  {
   "cell_type": "code",
   "execution_count": 47,
   "id": "31319509",
   "metadata": {},
   "outputs": [
    {
     "data": {
      "text/html": [
       "<div>\n",
       "<style scoped>\n",
       "    .dataframe tbody tr th:only-of-type {\n",
       "        vertical-align: middle;\n",
       "    }\n",
       "\n",
       "    .dataframe tbody tr th {\n",
       "        vertical-align: top;\n",
       "    }\n",
       "\n",
       "    .dataframe thead th {\n",
       "        text-align: right;\n",
       "    }\n",
       "</style>\n",
       "<table border=\"1\" class=\"dataframe\">\n",
       "  <thead>\n",
       "    <tr style=\"text-align: right;\">\n",
       "      <th></th>\n",
       "      <th>ID</th>\n",
       "      <th>Name</th>\n",
       "      <th>Sex</th>\n",
       "      <th>Age</th>\n",
       "      <th>Height</th>\n",
       "      <th>Weight</th>\n",
       "      <th>Team</th>\n",
       "      <th>NOC</th>\n",
       "      <th>Games</th>\n",
       "      <th>Year</th>\n",
       "      <th>Season</th>\n",
       "      <th>City</th>\n",
       "      <th>Sport</th>\n",
       "      <th>Event</th>\n",
       "      <th>Medal</th>\n",
       "      <th>Region</th>\n",
       "      <th>Notes</th>\n",
       "    </tr>\n",
       "  </thead>\n",
       "  <tbody>\n",
       "    <tr>\n",
       "      <th>3</th>\n",
       "      <td>4</td>\n",
       "      <td>Edgar Lindenau Aabye</td>\n",
       "      <td>M</td>\n",
       "      <td>34.0</td>\n",
       "      <td>NaN</td>\n",
       "      <td>NaN</td>\n",
       "      <td>Denmark/Sweden</td>\n",
       "      <td>DEN</td>\n",
       "      <td>1900 Summer</td>\n",
       "      <td>1900</td>\n",
       "      <td>Summer</td>\n",
       "      <td>Paris</td>\n",
       "      <td>Tug-Of-War</td>\n",
       "      <td>Tug-Of-War Men's Tug-Of-War</td>\n",
       "      <td>Gold</td>\n",
       "      <td>Denmark</td>\n",
       "      <td>NaN</td>\n",
       "    </tr>\n",
       "    <tr>\n",
       "      <th>42</th>\n",
       "      <td>17</td>\n",
       "      <td>Paavo Johannes Aaltonen</td>\n",
       "      <td>M</td>\n",
       "      <td>28.0</td>\n",
       "      <td>175.0</td>\n",
       "      <td>64.0</td>\n",
       "      <td>Finland</td>\n",
       "      <td>FIN</td>\n",
       "      <td>1948 Summer</td>\n",
       "      <td>1948</td>\n",
       "      <td>Summer</td>\n",
       "      <td>London</td>\n",
       "      <td>Gymnastics</td>\n",
       "      <td>Gymnastics Men's Team All-Around</td>\n",
       "      <td>Gold</td>\n",
       "      <td>Finland</td>\n",
       "      <td>NaN</td>\n",
       "    </tr>\n",
       "    <tr>\n",
       "      <th>44</th>\n",
       "      <td>17</td>\n",
       "      <td>Paavo Johannes Aaltonen</td>\n",
       "      <td>M</td>\n",
       "      <td>28.0</td>\n",
       "      <td>175.0</td>\n",
       "      <td>64.0</td>\n",
       "      <td>Finland</td>\n",
       "      <td>FIN</td>\n",
       "      <td>1948 Summer</td>\n",
       "      <td>1948</td>\n",
       "      <td>Summer</td>\n",
       "      <td>London</td>\n",
       "      <td>Gymnastics</td>\n",
       "      <td>Gymnastics Men's Horse Vault</td>\n",
       "      <td>Gold</td>\n",
       "      <td>Finland</td>\n",
       "      <td>NaN</td>\n",
       "    </tr>\n",
       "    <tr>\n",
       "      <th>48</th>\n",
       "      <td>17</td>\n",
       "      <td>Paavo Johannes Aaltonen</td>\n",
       "      <td>M</td>\n",
       "      <td>28.0</td>\n",
       "      <td>175.0</td>\n",
       "      <td>64.0</td>\n",
       "      <td>Finland</td>\n",
       "      <td>FIN</td>\n",
       "      <td>1948 Summer</td>\n",
       "      <td>1948</td>\n",
       "      <td>Summer</td>\n",
       "      <td>London</td>\n",
       "      <td>Gymnastics</td>\n",
       "      <td>Gymnastics Men's Pommelled Horse</td>\n",
       "      <td>Gold</td>\n",
       "      <td>Finland</td>\n",
       "      <td>NaN</td>\n",
       "    </tr>\n",
       "  </tbody>\n",
       "</table>\n",
       "</div>"
      ],
      "text/plain": [
       "    ID                     Name Sex   Age  Height  Weight            Team  \\\n",
       "3    4     Edgar Lindenau Aabye   M  34.0     NaN     NaN  Denmark/Sweden   \n",
       "42  17  Paavo Johannes Aaltonen   M  28.0   175.0    64.0         Finland   \n",
       "44  17  Paavo Johannes Aaltonen   M  28.0   175.0    64.0         Finland   \n",
       "48  17  Paavo Johannes Aaltonen   M  28.0   175.0    64.0         Finland   \n",
       "\n",
       "    NOC        Games  Year  Season    City       Sport  \\\n",
       "3   DEN  1900 Summer  1900  Summer   Paris  Tug-Of-War   \n",
       "42  FIN  1948 Summer  1948  Summer  London  Gymnastics   \n",
       "44  FIN  1948 Summer  1948  Summer  London  Gymnastics   \n",
       "48  FIN  1948 Summer  1948  Summer  London  Gymnastics   \n",
       "\n",
       "                               Event Medal   Region Notes  \n",
       "3        Tug-Of-War Men's Tug-Of-War  Gold  Denmark   NaN  \n",
       "42  Gymnastics Men's Team All-Around  Gold  Finland   NaN  \n",
       "44      Gymnastics Men's Horse Vault  Gold  Finland   NaN  \n",
       "48  Gymnastics Men's Pommelled Horse  Gold  Finland   NaN  "
      ]
     },
     "execution_count": 47,
     "metadata": {},
     "output_type": "execute_result"
    }
   ],
   "source": [
    "Gold_Athlt.head(4)"
   ]
  },
  {
   "cell_type": "code",
   "execution_count": 59,
   "id": "8a5f8daa",
   "metadata": {},
   "outputs": [
    {
     "data": {
      "text/html": [
       "<div>\n",
       "<style scoped>\n",
       "    .dataframe tbody tr th:only-of-type {\n",
       "        vertical-align: middle;\n",
       "    }\n",
       "\n",
       "    .dataframe tbody tr th {\n",
       "        vertical-align: top;\n",
       "    }\n",
       "\n",
       "    .dataframe thead th {\n",
       "        text-align: right;\n",
       "    }\n",
       "</style>\n",
       "<table border=\"1\" class=\"dataframe\">\n",
       "  <thead>\n",
       "    <tr style=\"text-align: right;\">\n",
       "      <th></th>\n",
       "      <th>index</th>\n",
       "      <th>Team</th>\n",
       "    </tr>\n",
       "  </thead>\n",
       "  <tbody>\n",
       "    <tr>\n",
       "      <th>0</th>\n",
       "      <td>United States</td>\n",
       "      <td>2472</td>\n",
       "    </tr>\n",
       "    <tr>\n",
       "      <th>1</th>\n",
       "      <td>Soviet Union</td>\n",
       "      <td>1058</td>\n",
       "    </tr>\n",
       "    <tr>\n",
       "      <th>2</th>\n",
       "      <td>Germany</td>\n",
       "      <td>676</td>\n",
       "    </tr>\n",
       "    <tr>\n",
       "      <th>3</th>\n",
       "      <td>Italy</td>\n",
       "      <td>534</td>\n",
       "    </tr>\n",
       "    <tr>\n",
       "      <th>4</th>\n",
       "      <td>Great Britain</td>\n",
       "      <td>515</td>\n",
       "    </tr>\n",
       "  </tbody>\n",
       "</table>\n",
       "</div>"
      ],
      "text/plain": [
       "           index  Team\n",
       "0  United States  2472\n",
       "1   Soviet Union  1058\n",
       "2        Germany   676\n",
       "3          Italy   534\n",
       "4  Great Britain   515"
      ]
     },
     "execution_count": 59,
     "metadata": {},
     "output_type": "execute_result"
    }
   ],
   "source": [
    "Total_Gold=Gold_Athlt[(Gold_Athlt['Medal']=='Gold')]['Team'].value_counts().reset_index().head(5)\n",
    "Total_Gold"
   ]
  },
  {
   "cell_type": "code",
   "execution_count": 49,
   "id": "9d4225a5",
   "metadata": {},
   "outputs": [
    {
     "data": {
      "text/plain": [
       "Text(0.5, 1.0, 'Gold won by Countries wise')"
      ]
     },
     "execution_count": 49,
     "metadata": {},
     "output_type": "execute_result"
    },
    {
     "data": {
      "image/png": "[encoded data removed]",
      "text/plain": [
       "<Figure size 360x360 with 1 Axes>"
      ]
     },
     "metadata": {},
     "output_type": "display_data"
    }
   ],
   "source": [
    "# Plot for Gold\n",
    "g=sns.catplot(x='index',y='Team',data=Total_Gold,height=5,kind='bar',palette='rocket')\n",
    "g.despine(left=True)\n",
    "g.set_xlabels('Top 5 countries')\n",
    "g.set_ylabels('Number of Medals')\n",
    "plt.title('Gold won by Countries wise')"
   ]
  },
  {
   "cell_type": "code",
   "execution_count": 57,
   "id": "c36e58b0",
   "metadata": {},
   "outputs": [
    {
     "data": {
      "text/plain": [
       "United States    137\n",
       "Great Britain     64\n",
       "Russia            50\n",
       "Germany           47\n",
       "China             44\n",
       "Brazil            34\n",
       "Australia         23\n",
       "Argentina         21\n",
       "France            20\n",
       "Japan             17\n",
       "Denmark           15\n",
       "Serbia            14\n",
       "Fiji              13\n",
       "South Korea       13\n",
       "Hungary           12\n",
       "Jamaica           11\n",
       "Netherlands        9\n",
       "Italy              8\n",
       "Croatia            7\n",
       "Spain              7\n",
       "Name: Team, dtype: int64"
      ]
     },
     "execution_count": 57,
     "metadata": {},
     "output_type": "execute_result"
    }
   ],
   "source": [
    "# In Rio Olympic\n",
    "Team=new_df[(new_df['Year']==2016) & (new_df['Medal']=='Gold')]['Team'].value_counts().head(20)\n",
    "Team"
   ]
  },
  {
   "cell_type": "code",
   "execution_count": 218,
   "id": "f1a205eb",
   "metadata": {},
   "outputs": [
    {
     "data": {
      "text/plain": [
       "Text(0.5, 0, 'Countries wise medals in 2016')"
      ]
     },
     "execution_count": 218,
     "metadata": {},
     "output_type": "execute_result"
    },
    {
     "data": {
      "image/png": "[encoded data removed]",
      "text/plain": [
       "<Figure size 1800x576 with 1 Axes>"
      ]
     },
     "metadata": {},
     "output_type": "display_data"
    }
   ],
   "source": [
    "plt.figure(figsize=(25,8))\n",
    "sns.barplot(x=Team,y=Team.index)\n",
    "plt.ylabel(None)\n",
    "plt.xlabel(\"Countries wise medals in 2016\")"
   ]
  },
  {
   "cell_type": "code",
   "execution_count": 221,
   "id": "6811bbbf",
   "metadata": {},
   "outputs": [
    {
     "data": {
      "text/plain": [
       "Sex  Medal \n",
       "F    Bronze    3771\n",
       "     Gold      3747\n",
       "     Silver    3735\n",
       "M    Gold      9625\n",
       "     Bronze    9524\n",
       "     Silver    9381\n",
       "Name: Medal, dtype: int64"
      ]
     },
     "execution_count": 221,
     "metadata": {},
     "output_type": "execute_result"
    }
   ],
   "source": [
    "Fig=new_df.groupby('Sex')['Medal'].value_counts()\n",
    "Fig"
   ]
  },
  {
   "cell_type": "code",
   "execution_count": 222,
   "id": "8743f95a",
   "metadata": {},
   "outputs": [],
   "source": [
    "not_null=new_df[(new_df['Height'].notnull()) & (new_df['Weight'].notnull())]"
   ]
  },
  {
   "cell_type": "code",
   "execution_count": 231,
   "id": "a6cb50b3",
   "metadata": {},
   "outputs": [
    {
     "data": {
      "text/plain": [
       "Text(0.5, 1.0, 'Height VS Weight')"
      ]
     },
     "execution_count": 231,
     "metadata": {},
     "output_type": "execute_result"
    },
    {
     "data": {
      "image/png": "[encoded data removed]",
      "text/plain": [
       "<Figure size 864x648 with 1 Axes>"
      ]
     },
     "metadata": {},
     "output_type": "display_data"
    }
   ],
   "source": [
    "plt.figure(figsize=(12,9))\n",
    "axis=sns.scatterplot(x=\"Height\",y=\"Weight\",data=not_null,hue='Sex')\n",
    "plt.title(\"Height VS Weight\")\n"
   ]
  },
  {
   "cell_type": "code",
   "execution_count": null,
   "id": "27dab16e",
   "metadata": {},
   "outputs": [],
   "source": []
  }
 ],
 "metadata": {
  "kernelspec": {
   "display_name": "Python 3 (ipykernel)",
   "language": "python",
   "name": "python3"
  },
  "language_info": {
   "codemirror_mode": {
    "name": "ipython",
    "version": 3
   },
   "file_extension": ".py",
   "mimetype": "text/x-python",
   "name": "python",
   "nbconvert_exporter": "python",
   "pygments_lexer": "ipython3",
   "version": "3.7.6"
  }
 },
 "nbformat": 4,
 "nbformat_minor": 5
}
