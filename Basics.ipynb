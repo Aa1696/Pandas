{
 "cells": [
  {
   "cell_type": "code",
   "execution_count": 1,
   "metadata": {},
   "outputs": [
    {
     "data": {
      "text/plain": [
       "'1.0.1'"
      ]
     },
     "execution_count": 1,
     "metadata": {},
     "output_type": "execute_result"
    }
   ],
   "source": [
    "import pandas as pd\n",
    "pd.__version__"
   ]
  },
  {
   "cell_type": "code",
   "execution_count": 21,
   "metadata": {},
   "outputs": [
    {
     "data": {
      "text/html": [
       "<div>\n",
       "<style scoped>\n",
       "    .dataframe tbody tr th:only-of-type {\n",
       "        vertical-align: middle;\n",
       "    }\n",
       "\n",
       "    .dataframe tbody tr th {\n",
       "        vertical-align: top;\n",
       "    }\n",
       "\n",
       "    .dataframe thead th {\n",
       "        text-align: right;\n",
       "    }\n",
       "</style>\n",
       "<table border=\"1\" class=\"dataframe\">\n",
       "  <thead>\n",
       "    <tr style=\"text-align: right;\">\n",
       "      <th></th>\n",
       "      <th>class 10</th>\n",
       "      <th>class 11</th>\n",
       "      <th>class12</th>\n",
       "    </tr>\n",
       "  </thead>\n",
       "  <tbody>\n",
       "    <tr>\n",
       "      <th>0</th>\n",
       "      <td>[94, shanak]</td>\n",
       "      <td>[84, Ritika]</td>\n",
       "      <td>[75, Prakhar]</td>\n",
       "    </tr>\n",
       "    <tr>\n",
       "      <th>1</th>\n",
       "      <td>[95, Risahv]</td>\n",
       "      <td>[86, Sonu]</td>\n",
       "      <td>[76, Shyam]</td>\n",
       "    </tr>\n",
       "    <tr>\n",
       "      <th>2</th>\n",
       "      <td>[98, Rahul]</td>\n",
       "      <td>[87, Aditya]</td>\n",
       "      <td>[77, Rithik]</td>\n",
       "    </tr>\n",
       "    <tr>\n",
       "      <th>3</th>\n",
       "      <td>[99, payal]</td>\n",
       "      <td>[88, Praksh]</td>\n",
       "      <td>[78, Shona]</td>\n",
       "    </tr>\n",
       "  </tbody>\n",
       "</table>\n",
       "</div>"
      ],
      "text/plain": [
       "       class 10      class 11        class12\n",
       "0  [94, shanak]  [84, Ritika]  [75, Prakhar]\n",
       "1  [95, Risahv]    [86, Sonu]    [76, Shyam]\n",
       "2   [98, Rahul]  [87, Aditya]   [77, Rithik]\n",
       "3   [99, payal]  [88, Praksh]    [78, Shona]"
      ]
     },
     "execution_count": 21,
     "metadata": {},
     "output_type": "execute_result"
    }
   ],
   "source": [
    "data={'Bihar':['Madhubani','Dharbhanga','Smastipur'],\n",
    "     'Uttar Pradesh':['Gorakhpur','Lucknow','Kanpur']\n",
    "     }\n",
    "data1={'class 10':[[94,'shanak'],[95,'Risahv'],[98,'Rahul'],[99,'payal']],'class 11':[[84,'Ritika'],[86,'Sonu'],[87,'Aditya'],[88,'Praksh']],'class12':[[75,'Prakhar'],[76,'Shyam'],[77,'Rithik'],[78,'Shona']]}\n",
    "packet1=pd.DataFrame(data1)\n",
    "packet=pd.DataFrame(data)\n",
    "packet1"
   ]
  },
  {
   "cell_type": "code",
   "execution_count": 28,
   "metadata": {},
   "outputs": [
    {
     "data": {
      "text/plain": [
       "Bihar            Smastipur\n",
       "Uttar Pradesh       Kanpur\n",
       "Name: 2, dtype: object"
      ]
     },
     "execution_count": 28,
     "metadata": {},
     "output_type": "execute_result"
    }
   ],
   "source": [
    "packet.loc[2]\n",
    "# packet.append(packet1)"
   ]
  },
  {
   "cell_type": "code",
   "execution_count": null,
   "metadata": {},
   "outputs": [],
   "source": [
    "# c"
   ]
  }
 ],
 "metadata": {
  "kernelspec": {
   "display_name": "Python 3 (ipykernel)",
   "language": "python",
   "name": "python3"
  },
  "language_info": {
   "codemirror_mode": {
    "name": "ipython",
    "version": 3
   },
   "file_extension": ".py",
   "mimetype": "text/x-python",
   "name": "python",
   "nbconvert_exporter": "python",
   "pygments_lexer": "ipython3",
   "version": "3.7.6"
  }
 },
 "nbformat": 4,
 "nbformat_minor": 4
}
