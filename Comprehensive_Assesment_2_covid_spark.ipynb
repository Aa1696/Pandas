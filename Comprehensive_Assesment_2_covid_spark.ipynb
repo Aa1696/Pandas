{
 "cells": [
  {
   "cell_type": "code",
   "execution_count": 1,
   "id": "00ceb7ee",
   "metadata": {},
   "outputs": [],
   "source": [
    "import pyspark"
   ]
  },
  {
   "cell_type": "code",
   "execution_count": 2,
   "id": "ff868408",
   "metadata": {},
   "outputs": [],
   "source": [
    "from pyspark.sql import SparkSession\n",
    "\n",
    "from pyspark.sql.utils import AnalysisException"
   ]
  },
  {
   "cell_type": "code",
   "execution_count": 3,
   "id": "5df105de",
   "metadata": {},
   "outputs": [
    {
     "name": "stderr",
     "output_type": "stream",
     "text": [
      "22/05/14 21:57:30 WARN Utils: Your hostname, sonus-MacBook.local resolves to a loopback address: 127.0.0.1; using 192.168.0.101 instead (on interface en0)\n",
      "22/05/14 21:57:30 WARN Utils: Set SPARK_LOCAL_IP if you need to bind to another address\n",
      "WARNING: An illegal reflective access operation has occurred\n",
      "WARNING: Illegal reflective access by org.apache.spark.unsafe.Platform (file:/opt/anaconda3/lib/python3.7/site-packages/pyspark/jars/spark-unsafe_2.12-3.2.1.jar) to constructor java.nio.DirectByteBuffer(long,int)\n",
      "WARNING: Please consider reporting this to the maintainers of org.apache.spark.unsafe.Platform\n",
      "WARNING: Use --illegal-access=warn to enable warnings of further illegal reflective access operations\n",
      "WARNING: All illegal access operations will be denied in a future release\n",
      "Using Spark's default log4j profile: org/apache/spark/log4j-defaults.properties\n",
      "Setting default log level to \"WARN\".\n",
      "To adjust logging level use sc.setLogLevel(newLevel). For SparkR, use setLogLevel(newLevel).\n",
      "22/05/14 21:57:31 WARN NativeCodeLoader: Unable to load native-hadoop library for your platform... using builtin-java classes where applicable\n",
      "22/05/14 21:57:33 WARN Utils: Service 'SparkUI' could not bind on port 4040. Attempting port 4041.\n",
      "22/05/14 21:57:33 WARN Utils: Service 'SparkUI' could not bind on port 4041. Attempting port 4042.\n"
     ]
    }
   ],
   "source": [
    "spark=SparkSession.builder.appName('Comprehensive_assesment2').getOrCreate()\n"
   ]
  },
  {
   "cell_type": "code",
   "execution_count": 4,
   "id": "e86a9098",
   "metadata": {},
   "outputs": [
    {
     "data": {
      "text/html": [
       "\n",
       "            <div>\n",
       "                <p><b>SparkSession - in-memory</b></p>\n",
       "                \n",
       "        <div>\n",
       "            <p><b>SparkContext</b></p>\n",
       "\n",
       "            <p><a href=\"http://192.168.0.101:4042\">Spark UI</a></p>\n",
       "\n",
       "            <dl>\n",
       "              <dt>Version</dt>\n",
       "                <dd><code>v3.2.1</code></dd>\n",
       "              <dt>Master</dt>\n",
       "                <dd><code>local[*]</code></dd>\n",
       "              <dt>AppName</dt>\n",
       "                <dd><code>Comprehensive_assesment2</code></dd>\n",
       "            </dl>\n",
       "        </div>\n",
       "        \n",
       "            </div>\n",
       "        "
      ],
      "text/plain": [
       "<pyspark.sql.session.SparkSession at 0x7f7ecbf52110>"
      ]
     },
     "execution_count": 4,
     "metadata": {},
     "output_type": "execute_result"
    }
   ],
   "source": [
    "spark"
   ]
  },
  {
   "cell_type": "code",
   "execution_count": 7,
   "id": "94b36e56",
   "metadata": {},
   "outputs": [],
   "source": [
    "df=spark.read.option(\"header\",'true').csv('covid.csv',inferSchema=True)"
   ]
  },
  {
   "cell_type": "code",
   "execution_count": 8,
   "id": "64357793",
   "metadata": {},
   "outputs": [
    {
     "data": {
      "text/plain": [
       "['Date.Day',\n",
       " 'Date.Month',\n",
       " 'Date.Year',\n",
       " 'Data.Cases',\n",
       " 'Data.Deaths',\n",
       " 'Location.Country',\n",
       " 'Location.Code',\n",
       " 'Data.Population',\n",
       " 'Location.Continent',\n",
       " 'Data.Rate']"
      ]
     },
     "execution_count": 8,
     "metadata": {},
     "output_type": "execute_result"
    }
   ],
   "source": [
    "df.columns"
   ]
  },
  {
   "cell_type": "code",
   "execution_count": 9,
   "id": "2f1f391f",
   "metadata": {},
   "outputs": [],
   "source": [
    "n_df=df.withColumnRenamed('Date.Day','Day').withColumnRenamed('Date.Month','Month').withColumnRenamed('Date.Year','Year').withColumnRenamed('Data.Cases','Cases').withColumnRenamed('Data.Deaths','Deaths').withColumnRenamed('Location.Country','Country').withColumnRenamed('Location.Code','Code').withColumnRenamed('Data.Population','Population').withColumnRenamed('Location.Continent','Continent').withColumnRenamed('Data.Rate','Rate')\n",
    "\n",
    "\n",
    "\n",
    "\n",
    "\n",
    "\n",
    "\n",
    "\n"
   ]
  },
  {
   "cell_type": "code",
   "execution_count": 10,
   "id": "a97d7419",
   "metadata": {},
   "outputs": [
    {
     "data": {
      "text/plain": [
       "['Day',\n",
       " 'Month',\n",
       " 'Year',\n",
       " 'Cases',\n",
       " 'Deaths',\n",
       " 'Country',\n",
       " 'Code',\n",
       " 'Population',\n",
       " 'Continent',\n",
       " 'Rate']"
      ]
     },
     "execution_count": 10,
     "metadata": {},
     "output_type": "execute_result"
    }
   ],
   "source": [
    "n_df.columns"
   ]
  },
  {
   "cell_type": "code",
   "execution_count": 11,
   "id": "042d4325",
   "metadata": {},
   "outputs": [
    {
     "name": "stderr",
     "output_type": "stream",
     "text": [
      "\r",
      "[Stage 4:>                                                          (0 + 1) / 1]\r"
     ]
    },
    {
     "name": "stdout",
     "output_type": "stream",
     "text": [
      "+--------------+\n",
      "|count(Country)|\n",
      "+--------------+\n",
      "|          9077|\n",
      "+--------------+\n",
      "\n"
     ]
    },
    {
     "name": "stderr",
     "output_type": "stream",
     "text": [
      "\r",
      "                                                                                \r"
     ]
    }
   ],
   "source": [
    "#1. Find out the total number of Countries which has Cases greater than 500.\n",
    "n_df.filter(n_df['Cases']>500).agg({'Country':'count'}).show()"
   ]
  },
  {
   "cell_type": "code",
   "execution_count": 14,
   "id": "a5e309c7",
   "metadata": {},
   "outputs": [
    {
     "name": "stdout",
     "output_type": "stream",
     "text": [
      "+----+\n",
      "|Code|\n",
      "+----+\n",
      "| ESP|\n",
      "| ITA|\n",
      "| CZE|\n",
      "| CZE|\n",
      "| XKX|\n",
      "| ESP|\n",
      "| KGZ|\n",
      "| IRL|\n",
      "+----+\n",
      "\n"
     ]
    }
   ],
   "source": [
    "#2. Find the Codes which has negative Deaths (Ex: -9,-5).\n",
    "n_df.filter(n_df['Deaths']<0).select(\"Code\").show()"
   ]
  },
  {
   "cell_type": "code",
   "execution_count": 73,
   "id": "b209bde0",
   "metadata": {},
   "outputs": [
    {
     "name": "stderr",
     "output_type": "stream",
     "text": [
      "\r",
      "[Stage 72:>                                                         (0 + 1) / 1]\r",
      "\r",
      "                                                                                \r"
     ]
    },
    {
     "name": "stdout",
     "output_type": "stream",
     "text": [
      "+---+-----+----+----------+\n",
      "|Day|Month|Year| max(Rate)|\n",
      "+---+-----+----+----------+\n",
      "|  2|   11|2020|1900.83621|\n",
      "+---+-----+----+----------+\n",
      "only showing top 1 row\n",
      "\n"
     ]
    }
   ],
   "source": [
    "#3. Which date has the highest Rate?\n",
    "df1=n_df.groupBy(['Day','Month','Year']).agg({'Rate':'max'})\n",
    "df1.orderBy(df1['max(Rate)'].desc()).show(1)"
   ]
  },
  {
   "cell_type": "code",
   "execution_count": 46,
   "id": "d92b37ca",
   "metadata": {},
   "outputs": [
    {
     "name": "stdout",
     "output_type": "stream",
     "text": [
      "+-----+-----------+\n",
      "|Month|min(Deaths)|\n",
      "+-----+-----------+\n",
      "|   12|          0|\n",
      "+-----+-----------+\n",
      "only showing top 1 row\n",
      "\n"
     ]
    }
   ],
   "source": [
    "#4. Which month has minimum Death?\n",
    "df1=n_df.groupBy('Month').agg({'Deaths':'min'})\n",
    "df1.orderBy(df1['min(Deaths)'].desc()).show(1)"
   ]
  },
  {
   "cell_type": "code",
   "execution_count": 78,
   "id": "0b4ff2db",
   "metadata": {},
   "outputs": [
    {
     "name": "stdout",
     "output_type": "stream",
     "text": [
      "+--------------------+\n",
      "|             Country|\n",
      "+--------------------+\n",
      "|Cases_on_an_inter...|\n",
      "|             Iceland|\n",
      "|              Monaco|\n",
      "|          San_Marino|\n",
      "|Cases_on_an_inter...|\n",
      "|             Iceland|\n",
      "|              Monaco|\n",
      "|          San_Marino|\n",
      "|Cases_on_an_inter...|\n",
      "|             Iceland|\n",
      "|              Monaco|\n",
      "|          San_Marino|\n",
      "|Cases_on_an_inter...|\n",
      "|             Iceland|\n",
      "|              Monaco|\n",
      "|          San_Marino|\n",
      "|Cases_on_an_inter...|\n",
      "|             Iceland|\n",
      "|              Monaco|\n",
      "|          San_Marino|\n",
      "+--------------------+\n",
      "only showing top 20 rows\n",
      "\n"
     ]
    }
   ],
   "source": [
    "#5. Which cities have Populations lesser than 50,000?\n",
    "n_df.filter(n_df['Population']<500000).select('Country').show()"
   ]
  },
  {
   "cell_type": "code",
   "execution_count": 49,
   "id": "5924ca01",
   "metadata": {},
   "outputs": [
    {
     "name": "stdout",
     "output_type": "stream",
     "text": [
      "+---+-----+----+\n",
      "|Day|Month|Year|\n",
      "+---+-----+----+\n",
      "|  5|    9|2020|\n",
      "+---+-----+----+\n",
      "\n"
     ]
    }
   ],
   "source": [
    "#6. Find Dates with Continent =’ Oceania’ and have Deaths greater than 20 and less than 50\n",
    "n_df.filter((n_df['Deaths']>20) & (n_df['Deaths']>50) &(n_df['Continent']=='Oceania')).select(['Day','Month','Year']).show()"
   ]
  },
  {
   "cell_type": "code",
   "execution_count": 50,
   "id": "cacca0b2",
   "metadata": {},
   "outputs": [
    {
     "name": "stdout",
     "output_type": "stream",
     "text": [
      "+-----------+-----+------+----+\n",
      "|    Country|Cases|Deaths|Rate|\n",
      "+-----------+-----+------+----+\n",
      "|Afghanistan|    0|     0| 0.0|\n",
      "|    Bahrain|    0|     0| 0.0|\n",
      "|   Cambodia|    0|     0| 0.0|\n",
      "|      China|   27|     0| 0.0|\n",
      "|      India|    0|     0| 0.0|\n",
      "|  Indonesia|    0|     0| 0.0|\n",
      "|       Iran|    0|     0| 0.0|\n",
      "|       Iraq|    0|     0| 0.0|\n",
      "|     Israel|    0|     0| 0.0|\n",
      "|      Japan|    0|     0| 0.0|\n",
      "|     Kuwait|    0|     0| 0.0|\n",
      "|    Lebanon|    0|     0| 0.0|\n",
      "|   Malaysia|    0|     0| 0.0|\n",
      "|      Nepal|    0|     0| 0.0|\n",
      "|       Oman|    0|     0| 0.0|\n",
      "|   Pakistan|    0|     0| 0.0|\n",
      "|Philippines|    0|     0| 0.0|\n",
      "|      Qatar|    0|     0| 0.0|\n",
      "|  Singapore|    0|     0| 0.0|\n",
      "|South_Korea|    0|     0| 0.0|\n",
      "+-----------+-----+------+----+\n",
      "only showing top 20 rows\n",
      "\n"
     ]
    }
   ],
   "source": [
    "#7. Find the Countries, Cases, Deaths, Rate for all the Countries in the Continent =’ Asia’.\n",
    "\n",
    "n_df.filter(n_df['Continent']=='Asia').select(['Country','Cases','Deaths','Rate']).show()"
   ]
  },
  {
   "cell_type": "code",
   "execution_count": 70,
   "id": "b2e12134",
   "metadata": {},
   "outputs": [
    {
     "name": "stdout",
     "output_type": "stream",
     "text": [
      "+---------+-------+---------------+\n",
      "|Continent|Country|max(Population)|\n",
      "+---------+-------+---------------+\n",
      "|     Asia|  China|     1433783692|\n",
      "+---------+-------+---------------+\n",
      "only showing top 1 row\n",
      "\n"
     ]
    }
   ],
   "source": [
    "#8. On ‘24/5/2020’ which Country, Continent has Least Population and Highest Population?\n",
    "df_5=n_df.filter((n_df['Day']=='25')& (n_df['Month']=='5')&(n_df['Year']=='2020')).groupBy(['Continent','Country']).agg({'Population':'max'})\n",
    "df_5.orderBy(df_5['max(Population)'].desc()).show(1)\n",
    "\n",
    "\n"
   ]
  },
  {
   "cell_type": "code",
   "execution_count": 72,
   "id": "21534ffc",
   "metadata": {},
   "outputs": [
    {
     "name": "stdout",
     "output_type": "stream",
     "text": [
      "+---------+--------+---------------+\n",
      "|Continent| Country|min(Population)|\n",
      "+---------+--------+---------------+\n",
      "|   Europe|Holy_See|            815|\n",
      "+---------+--------+---------------+\n",
      "only showing top 1 row\n",
      "\n"
     ]
    },
    {
     "name": "stderr",
     "output_type": "stream",
     "text": [
      "\r",
      "[Stage 69:>                                                         (0 + 1) / 1]\r",
      "\r",
      "                                                                                \r"
     ]
    }
   ],
   "source": [
    "df_6=n_df.filter((n_df['Day']=='25')& (n_df['Month']=='5')&(n_df['Year']=='2020')).groupBy(['Continent','Country']).agg({'Population':'min'})\n",
    "df_6.orderBy(df_6['min(Population)'].asc()).show(1)"
   ]
  },
  {
   "cell_type": "code",
   "execution_count": 74,
   "id": "0cdb1b1b",
   "metadata": {},
   "outputs": [
    {
     "name": "stdout",
     "output_type": "stream",
     "text": [
      "I am sonu Mahto\n"
     ]
    }
   ],
   "source": [
    "print(f\"I am sonu Mahto\")"
   ]
  }
 ],
 "metadata": {
  "kernelspec": {
   "display_name": "Python 3 (ipykernel)",
   "language": "python",
   "name": "python3"
  },
  "language_info": {
   "codemirror_mode": {
    "name": "ipython",
    "version": 3
   },
   "file_extension": ".py",
   "mimetype": "text/x-python",
   "name": "python",
   "nbconvert_exporter": "python",
   "pygments_lexer": "ipython3",
   "version": "3.7.7"
  }
 },
 "nbformat": 4,
 "nbformat_minor": 5
}
